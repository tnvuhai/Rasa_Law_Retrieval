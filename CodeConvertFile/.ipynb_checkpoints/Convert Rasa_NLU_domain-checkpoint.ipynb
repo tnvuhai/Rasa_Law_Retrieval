{
 "cells": [
  {
   "cell_type": "code",
   "execution_count": 1,
   "metadata": {},
   "outputs": [],
   "source": [
    "import pandas as pd"
   ]
  },
  {
   "cell_type": "code",
   "execution_count": 2,
   "metadata": {},
   "outputs": [],
   "source": [
    "df = pd.read_json(\"..//VLSP2023-LTER-Data//legal_passages.json\")"
   ]
  },
  {
   "cell_type": "code",
   "execution_count": 3,
   "metadata": {},
   "outputs": [
    {
     "name": "stdout",
     "output_type": "stream",
     "text": [
      "18\n"
     ]
    },
    {
     "data": {
      "text/html": [
       "<div>\n",
       "<style scoped>\n",
       "    .dataframe tbody tr th:only-of-type {\n",
       "        vertical-align: middle;\n",
       "    }\n",
       "\n",
       "    .dataframe tbody tr th {\n",
       "        vertical-align: top;\n",
       "    }\n",
       "\n",
       "    .dataframe thead th {\n",
       "        text-align: right;\n",
       "    }\n",
       "</style>\n",
       "<table border=\"1\" class=\"dataframe\">\n",
       "  <thead>\n",
       "    <tr style=\"text-align: right;\">\n",
       "      <th></th>\n",
       "      <th>id</th>\n",
       "      <th>articles</th>\n",
       "    </tr>\n",
       "  </thead>\n",
       "  <tbody>\n",
       "    <tr>\n",
       "      <th>0</th>\n",
       "      <td>Luật Viên chức 2010</td>\n",
       "      <td>[{'id': '1', 'text': 'Phạm vi điều chỉnh\n",
       "\n",
       "Luật...</td>\n",
       "    </tr>\n",
       "    <tr>\n",
       "      <th>1</th>\n",
       "      <td>Bộ Luật Dân sự 2015</td>\n",
       "      <td>[{'id': '1', 'text': 'Phạm vi điều chỉnh\n",
       "\n",
       "Bộ l...</td>\n",
       "    </tr>\n",
       "    <tr>\n",
       "      <th>2</th>\n",
       "      <td>Luật Giáo dục 2019</td>\n",
       "      <td>[{'id': '1', 'text': 'Phạm vi điều chỉnh\n",
       "\n",
       "Luật...</td>\n",
       "    </tr>\n",
       "    <tr>\n",
       "      <th>3</th>\n",
       "      <td>Luật Tổ chức viện kiểm sát nhân dân 2014</td>\n",
       "      <td>[{'id': '1', 'text': 'Phạm vi điều chỉnh\n",
       "\n",
       "Luật...</td>\n",
       "    </tr>\n",
       "    <tr>\n",
       "      <th>4</th>\n",
       "      <td>Luật Dầu khí 2022</td>\n",
       "      <td>[{'id': '1', 'text': 'Phạm vi điều chỉnh\n",
       "\n",
       "Luật...</td>\n",
       "    </tr>\n",
       "  </tbody>\n",
       "</table>\n",
       "</div>"
      ],
      "text/plain": [
       "                                         id  \\\n",
       "0                       Luật Viên chức 2010   \n",
       "1                       Bộ Luật Dân sự 2015   \n",
       "2                        Luật Giáo dục 2019   \n",
       "3  Luật Tổ chức viện kiểm sát nhân dân 2014   \n",
       "4                         Luật Dầu khí 2022   \n",
       "\n",
       "                                            articles  \n",
       "0  [{'id': '1', 'text': 'Phạm vi điều chỉnh\n",
       "\n",
       "Luật...  \n",
       "1  [{'id': '1', 'text': 'Phạm vi điều chỉnh\n",
       "\n",
       "Bộ l...  \n",
       "2  [{'id': '1', 'text': 'Phạm vi điều chỉnh\n",
       "\n",
       "Luật...  \n",
       "3  [{'id': '1', 'text': 'Phạm vi điều chỉnh\n",
       "\n",
       "Luật...  \n",
       "4  [{'id': '1', 'text': 'Phạm vi điều chỉnh\n",
       "\n",
       "Luật...  "
      ]
     },
     "execution_count": 3,
     "metadata": {},
     "output_type": "execute_result"
    }
   ],
   "source": [
    "print(len(df))\n",
    "df.head()"
   ]
  },
  {
   "cell_type": "code",
   "execution_count": 4,
   "metadata": {},
   "outputs": [],
   "source": [
    "utter_id = df[\"id\"]\n",
    "articles = df[\"articles\"]"
   ]
  },
  {
   "cell_type": "code",
   "execution_count": 5,
   "metadata": {},
   "outputs": [],
   "source": [
    "def getNewTrainData(df):\n",
    "    result = []  # Danh sách lưu kết quả\n",
    "  # Truy cập các cột và hàng trong DataFrame\n",
    "    print(df.iterrows())\n",
    "    for index, row in df.iterrows():\n",
    "        item_id = row['id']\n",
    "        articles = row['articles']\n",
    "        for article in articles:\n",
    "            article_id = article['id']\n",
    "            text = article['text']\n",
    "\n",
    "            result.append({'article_id': article_id, 'text': text, 'id': item_id})  # Thêm kết quả vào danh sách\n",
    "\n",
    "    result_df = pd.DataFrame(result)  # Chuyển đổi danh sách thành DataFrame\n",
    "    # result_df['index'] = range(len(result_df))\n",
    "    return result_df"
   ]
  },
  {
   "cell_type": "code",
   "execution_count": 6,
   "metadata": {},
   "outputs": [
    {
     "name": "stdout",
     "output_type": "stream",
     "text": [
      "<generator object DataFrame.iterrows at 0x000002958F0AF7B0>\n",
      "2256\n"
     ]
    },
    {
     "data": {
      "text/html": [
       "<div>\n",
       "<style scoped>\n",
       "    .dataframe tbody tr th:only-of-type {\n",
       "        vertical-align: middle;\n",
       "    }\n",
       "\n",
       "    .dataframe tbody tr th {\n",
       "        vertical-align: top;\n",
       "    }\n",
       "\n",
       "    .dataframe thead th {\n",
       "        text-align: right;\n",
       "    }\n",
       "</style>\n",
       "<table border=\"1\" class=\"dataframe\">\n",
       "  <thead>\n",
       "    <tr style=\"text-align: right;\">\n",
       "      <th></th>\n",
       "      <th>article_id</th>\n",
       "      <th>text</th>\n",
       "      <th>id</th>\n",
       "    </tr>\n",
       "  </thead>\n",
       "  <tbody>\n",
       "    <tr>\n",
       "      <th>0</th>\n",
       "      <td>1</td>\n",
       "      <td>Phạm vi điều chỉnh\\n\\nLuật này quy định về viê...</td>\n",
       "      <td>Luật Viên chức 2010</td>\n",
       "    </tr>\n",
       "    <tr>\n",
       "      <th>1</th>\n",
       "      <td>2</td>\n",
       "      <td>Viên chức\\n\\nViên chức là công dân Việt Nam đư...</td>\n",
       "      <td>Luật Viên chức 2010</td>\n",
       "    </tr>\n",
       "    <tr>\n",
       "      <th>2</th>\n",
       "      <td>3</td>\n",
       "      <td>Giải thích từ ngữ\\n\\nTrong Luật này, các từ ng...</td>\n",
       "      <td>Luật Viên chức 2010</td>\n",
       "    </tr>\n",
       "    <tr>\n",
       "      <th>3</th>\n",
       "      <td>4</td>\n",
       "      <td>Hoạt động nghề nghiệp của viên chức\\n\\nHoạt độ...</td>\n",
       "      <td>Luật Viên chức 2010</td>\n",
       "    </tr>\n",
       "    <tr>\n",
       "      <th>4</th>\n",
       "      <td>5</td>\n",
       "      <td>Các nguyên tắc trong hoạt động nghề nghiệp của...</td>\n",
       "      <td>Luật Viên chức 2010</td>\n",
       "    </tr>\n",
       "    <tr>\n",
       "      <th>5</th>\n",
       "      <td>6</td>\n",
       "      <td>Các nguyên tắc quản lý viên chức\\n\\n1. Bảo đảm...</td>\n",
       "      <td>Luật Viên chức 2010</td>\n",
       "    </tr>\n",
       "    <tr>\n",
       "      <th>6</th>\n",
       "      <td>7</td>\n",
       "      <td>Vị trí việc làm\\n\\n1. Vị trí việc làm là công ...</td>\n",
       "      <td>Luật Viên chức 2010</td>\n",
       "    </tr>\n",
       "    <tr>\n",
       "      <th>7</th>\n",
       "      <td>8</td>\n",
       "      <td>Chức danh nghề nghiệp\\n\\n1. Chức danh nghề ngh...</td>\n",
       "      <td>Luật Viên chức 2010</td>\n",
       "    </tr>\n",
       "    <tr>\n",
       "      <th>8</th>\n",
       "      <td>9</td>\n",
       "      <td>Đơn vị sự nghiệp công lập và cơ cấu tổ chức qu...</td>\n",
       "      <td>Luật Viên chức 2010</td>\n",
       "    </tr>\n",
       "    <tr>\n",
       "      <th>9</th>\n",
       "      <td>10</td>\n",
       "      <td>Chính sách xây dựng và phát triển các đơn vị s...</td>\n",
       "      <td>Luật Viên chức 2010</td>\n",
       "    </tr>\n",
       "  </tbody>\n",
       "</table>\n",
       "</div>"
      ],
      "text/plain": [
       "  article_id                                               text  \\\n",
       "0          1  Phạm vi điều chỉnh\\n\\nLuật này quy định về viê...   \n",
       "1          2  Viên chức\\n\\nViên chức là công dân Việt Nam đư...   \n",
       "2          3  Giải thích từ ngữ\\n\\nTrong Luật này, các từ ng...   \n",
       "3          4  Hoạt động nghề nghiệp của viên chức\\n\\nHoạt độ...   \n",
       "4          5  Các nguyên tắc trong hoạt động nghề nghiệp của...   \n",
       "5          6  Các nguyên tắc quản lý viên chức\\n\\n1. Bảo đảm...   \n",
       "6          7  Vị trí việc làm\\n\\n1. Vị trí việc làm là công ...   \n",
       "7          8  Chức danh nghề nghiệp\\n\\n1. Chức danh nghề ngh...   \n",
       "8          9  Đơn vị sự nghiệp công lập và cơ cấu tổ chức qu...   \n",
       "9         10  Chính sách xây dựng và phát triển các đơn vị s...   \n",
       "\n",
       "                    id  \n",
       "0  Luật Viên chức 2010  \n",
       "1  Luật Viên chức 2010  \n",
       "2  Luật Viên chức 2010  \n",
       "3  Luật Viên chức 2010  \n",
       "4  Luật Viên chức 2010  \n",
       "5  Luật Viên chức 2010  \n",
       "6  Luật Viên chức 2010  \n",
       "7  Luật Viên chức 2010  \n",
       "8  Luật Viên chức 2010  \n",
       "9  Luật Viên chức 2010  "
      ]
     },
     "execution_count": 6,
     "metadata": {},
     "output_type": "execute_result"
    }
   ],
   "source": [
    "new_relevant_articles = getNewTrainData(df)\n",
    "print(len(new_relevant_articles))\n",
    "new_relevant_articles.head(10)"
   ]
  },
  {
   "cell_type": "code",
   "execution_count": 7,
   "metadata": {},
   "outputs": [
    {
     "name": "stdout",
     "output_type": "stream",
     "text": [
      "[{'article_id': '1', 'text': 'Phạm vi điều chỉnh\\n\\nLuật này quy định về viên chức; quyền nghĩa vụ của viên chức; tuyển dụng, sử dụng và quản lý viên chức trong đơn vị sự nghiệp công lập.', 'id': 'Luật Viên chức 2010'}, {'article_id': '2', 'text': 'Viên chức\\n\\nViên chức là công dân Việt Nam được tuyển dụng theo vị trí việc làm, làm việc tại đơn vị sự nghiệp công lập theo chế độ hợp đồng làm việc, hưởng lương từ quỹ lương của đơn vị sự nghiệp công lập theo quy định của pháp luật.', 'id': 'Luật Viên chức 2010'}, {'article_id': '3', 'text': 'Giải thích từ ngữ\\n\\nTrong Luật này, các từ ngữ dưới đây được hiểu như sau:\\n\\n1. Viên chức quản lý là người được bổ nhiệm giữ chức vụ quản lý có thời hạn, chịu trách nhiệm điều hành, tổ chức thực hiện một hoặc một số công việc trong đơn vị sự nghiệp công lập nhưng không phải là công chức và được hưởng phụ cấp chức vụ quản lý.\\n\\n2. Đạo đức nghề nghiệp là các chuẩn mực về nhận thức và hành vi phù hợp với đặc thù của từng lĩnh vực hoạt động nghề nghiệp do cơ quan, tổ chức có thẩm quyền quy định.\\n\\n3. Quy tắc ứng xử là các chuẩn mực xử sự của viên chức trong thi hành nhiệm vụ và trong quan hệ xã hội do cơ quan nhà nước có thẩm quyền ban hành, phù hợp với đặc thù công việc trong từng lĩnh vực hoạt động và được công khai để nhân dân giám sát việc chấp hành.\\n\\n4. Tuyển dụng là việc lựa chọn người có phẩm chất, trình độ và năng lực vào làm viên chức trong đơn vị sự nghiệp công lập.\\n\\n5. Hợp đồng làm việc là sự thỏa thuận bằng văn bản giữa viên chức hoặc người được tuyển dụng làm viên chức với người đứng đầu đơn vị sự nghiệp công lập về vị trí việc làm, tiền lương, chế độ đãi ngộ, điều kiện làm việc quyền và nghĩa vụ của mỗi bên.', 'id': 'Luật Viên chức 2010'}]\n"
     ]
    }
   ],
   "source": [
    "new_df = new_relevant_articles\n",
    "\n",
    "# Chuyển DataFrame thành danh sách các từ điển\n",
    "list_from_df = new_df.to_dict('records')\n",
    "\n",
    "# Hiện thị danh sách này\n",
    "print(list_from_df[0:3])"
   ]
  },
  {
   "cell_type": "code",
   "execution_count": 8,
   "metadata": {},
   "outputs": [],
   "source": [
    "import json\n",
    "import yaml\n",
    "from unidecode import unidecode"
   ]
  },
  {
   "cell_type": "code",
   "execution_count": 10,
   "metadata": {},
   "outputs": [],
   "source": [
    "yaml_data = {}\n",
    "utter_list = []  # Danh sách để lưu các giá trị utter\n",
    "for item in list_from_df:\n",
    "    utter = f'utter_{unidecode(item[\"id\"].replace(\" \", \"\").replace(\",\",\"\"))}'\n",
    "    utter_list.append(utter)  # Thêm giá trị utter vào danh sách\n",
    "    yaml_data[utter] = {'- text': f'\"{item[\"text\"]}\"'}"
   ]
  },
  {
   "cell_type": "code",
   "execution_count": 11,
   "metadata": {},
   "outputs": [
    {
     "name": "stdout",
     "output_type": "stream",
     "text": [
      "Dữ liệu đã được ghi vào 'Data_domain.yml' thành công.\n"
     ]
    }
   ],
   "source": [
    "# Tên file mà bạn muốn lưu dữ liệu vào\n",
    "file_name = 'Data_domain.yml'\n",
    "\n",
    "# Ghi dữ liệu YAML vào tệp tin\n",
    "with open(file_name, 'w', encoding='utf-8') as file:\n",
    "    yaml.dump(yaml_data, file, default_flow_style=False, allow_unicode=True)\n",
    "\n",
    "print(f\"Dữ liệu đã được ghi vào '{file_name}' thành công.\")"
   ]
  },
  {
   "cell_type": "code",
   "execution_count": 22,
   "metadata": {},
   "outputs": [],
   "source": [
    "train_df = pd.read_json(\"../VLSP2023-LTER-Data/train.json\")"
   ]
  },
  {
   "cell_type": "code",
   "execution_count": 24,
   "metadata": {},
   "outputs": [],
   "source": [
    "def getNewTrainData(df):\n",
    "    result = []  # Danh sách lưu kết quả\n",
    "  # Truy cập các cột và hàng trong DataFrame\n",
    "    for index, row in df.iterrows():\n",
    "        question_id = row['example_id']\n",
    "        label = row['label']\n",
    "        text = row['statement']\n",
    "        articles = row['legal_passages']\n",
    "\n",
    "        for article in articles:\n",
    "            article_id = article['article_id']\n",
    "            law_id = article['law_id']\n",
    "\n",
    "            result.append({'example_id': question_id,'label':label, 'statement': text, 'article_id': article_id, 'law_id': law_id, })  # Thêm kết quả vào danh sách\n",
    "\n",
    "    result_df = pd.DataFrame(result)  # Chuyển đổi danh sách thành DataFrame\n",
    "    result_df['index'] = range(len(result_df))\n",
    "    return result_df"
   ]
  },
  {
   "cell_type": "code",
   "execution_count": 25,
   "metadata": {},
   "outputs": [
    {
     "name": "stdout",
     "output_type": "stream",
     "text": [
      "76\n"
     ]
    },
    {
     "data": {
      "text/html": [
       "<div>\n",
       "<style scoped>\n",
       "    .dataframe tbody tr th:only-of-type {\n",
       "        vertical-align: middle;\n",
       "    }\n",
       "\n",
       "    .dataframe tbody tr th {\n",
       "        vertical-align: top;\n",
       "    }\n",
       "\n",
       "    .dataframe thead th {\n",
       "        text-align: right;\n",
       "    }\n",
       "</style>\n",
       "<table border=\"1\" class=\"dataframe\">\n",
       "  <thead>\n",
       "    <tr style=\"text-align: right;\">\n",
       "      <th></th>\n",
       "      <th>example_id</th>\n",
       "      <th>label</th>\n",
       "      <th>statement</th>\n",
       "      <th>article_id</th>\n",
       "      <th>law_id</th>\n",
       "      <th>index</th>\n",
       "    </tr>\n",
       "  </thead>\n",
       "  <tbody>\n",
       "    <tr>\n",
       "      <th>0</th>\n",
       "      <td>q9zjh7Uw7Q</td>\n",
       "      <td>No</td>\n",
       "      <td>Người xem dưới 16 tuổi được xem phim có nội du...</td>\n",
       "      <td>32</td>\n",
       "      <td>Luật Điện ảnh 2022</td>\n",
       "      <td>0</td>\n",
       "    </tr>\n",
       "    <tr>\n",
       "      <th>1</th>\n",
       "      <td>ckQFn8y202</td>\n",
       "      <td>No</td>\n",
       "      <td>Trong vòng 03 ngày làm việc, kể từ ngày người ...</td>\n",
       "      <td>30</td>\n",
       "      <td>Luật Phòng, chống ma túy 2021</td>\n",
       "      <td>1</td>\n",
       "    </tr>\n",
       "    <tr>\n",
       "      <th>2</th>\n",
       "      <td>3ROu621ZEO</td>\n",
       "      <td>Yes</td>\n",
       "      <td>Viên chức có 02 năm liên tiếp bị phân loại đán...</td>\n",
       "      <td>29</td>\n",
       "      <td>Luật Viên chức 2010</td>\n",
       "      <td>2</td>\n",
       "    </tr>\n",
       "    <tr>\n",
       "      <th>3</th>\n",
       "      <td>VT1QuVmhCc</td>\n",
       "      <td>Yes</td>\n",
       "      <td>Các biện pháp cai nghiện ma túy là những biện ...</td>\n",
       "      <td>28</td>\n",
       "      <td>Luật Phòng, chống ma túy 2021</td>\n",
       "      <td>3</td>\n",
       "    </tr>\n",
       "    <tr>\n",
       "      <th>4</th>\n",
       "      <td>0MwITLtbmg</td>\n",
       "      <td>No</td>\n",
       "      <td>Viên chức thuộc một đơn vị sự nghiệp công lập ...</td>\n",
       "      <td>14</td>\n",
       "      <td>Luật Viên chức 2010</td>\n",
       "      <td>4</td>\n",
       "    </tr>\n",
       "    <tr>\n",
       "      <th>5</th>\n",
       "      <td>iWBRVGwBcb</td>\n",
       "      <td>No</td>\n",
       "      <td>Người từ đủ 14 tuổi đến dưới 18 tuổi đang cai ...</td>\n",
       "      <td>39</td>\n",
       "      <td>Luật Phòng, chống ma túy 2021</td>\n",
       "      <td>5</td>\n",
       "    </tr>\n",
       "    <tr>\n",
       "      <th>6</th>\n",
       "      <td>XsfBrLUkvw</td>\n",
       "      <td>No</td>\n",
       "      <td>Trách nhiệm của Bộ Y tế trong việc phòng, chốn...</td>\n",
       "      <td>49</td>\n",
       "      <td>Luật Phòng, chống ma túy 2021</td>\n",
       "      <td>6</td>\n",
       "    </tr>\n",
       "    <tr>\n",
       "      <th>7</th>\n",
       "      <td>bu3nyKAUNT</td>\n",
       "      <td>No</td>\n",
       "      <td>Người xem từ 18 tuổi trở lên được pháp xem phi...</td>\n",
       "      <td>32</td>\n",
       "      <td>Luật Điện ảnh 2022</td>\n",
       "      <td>7</td>\n",
       "    </tr>\n",
       "    <tr>\n",
       "      <th>8</th>\n",
       "      <td>msHHa3bELB</td>\n",
       "      <td>Yes</td>\n",
       "      <td>Viên chức có quyền được đào tạo, bồi dưỡng nân...</td>\n",
       "      <td>11</td>\n",
       "      <td>Luật Viên chức 2010</td>\n",
       "      <td>8</td>\n",
       "    </tr>\n",
       "    <tr>\n",
       "      <th>9</th>\n",
       "      <td>RVV34aoTvI</td>\n",
       "      <td>No</td>\n",
       "      <td>Cơ sở giáo dục thường xuyên bao gồm trường đại...</td>\n",
       "      <td>44</td>\n",
       "      <td>Luật Giáo dục 2019</td>\n",
       "      <td>9</td>\n",
       "    </tr>\n",
       "  </tbody>\n",
       "</table>\n",
       "</div>"
      ],
      "text/plain": [
       "   example_id label                                          statement  \\\n",
       "0  q9zjh7Uw7Q    No  Người xem dưới 16 tuổi được xem phim có nội du...   \n",
       "1  ckQFn8y202    No  Trong vòng 03 ngày làm việc, kể từ ngày người ...   \n",
       "2  3ROu621ZEO   Yes  Viên chức có 02 năm liên tiếp bị phân loại đán...   \n",
       "3  VT1QuVmhCc   Yes  Các biện pháp cai nghiện ma túy là những biện ...   \n",
       "4  0MwITLtbmg    No  Viên chức thuộc một đơn vị sự nghiệp công lập ...   \n",
       "5  iWBRVGwBcb    No  Người từ đủ 14 tuổi đến dưới 18 tuổi đang cai ...   \n",
       "6  XsfBrLUkvw    No  Trách nhiệm của Bộ Y tế trong việc phòng, chốn...   \n",
       "7  bu3nyKAUNT    No  Người xem từ 18 tuổi trở lên được pháp xem phi...   \n",
       "8  msHHa3bELB   Yes  Viên chức có quyền được đào tạo, bồi dưỡng nân...   \n",
       "9  RVV34aoTvI    No  Cơ sở giáo dục thường xuyên bao gồm trường đại...   \n",
       "\n",
       "  article_id                         law_id  index  \n",
       "0         32             Luật Điện ảnh 2022      0  \n",
       "1         30  Luật Phòng, chống ma túy 2021      1  \n",
       "2         29            Luật Viên chức 2010      2  \n",
       "3         28  Luật Phòng, chống ma túy 2021      3  \n",
       "4         14            Luật Viên chức 2010      4  \n",
       "5         39  Luật Phòng, chống ma túy 2021      5  \n",
       "6         49  Luật Phòng, chống ma túy 2021      6  \n",
       "7         32             Luật Điện ảnh 2022      7  \n",
       "8         11            Luật Viên chức 2010      8  \n",
       "9         44             Luật Giáo dục 2019      9  "
      ]
     },
     "execution_count": 25,
     "metadata": {},
     "output_type": "execute_result"
    }
   ],
   "source": [
    "new_relevant_articles = getNewTrainData(train_df)\n",
    "print(len(new_relevant_articles))\n",
    "new_relevant_articles.head(10)"
   ]
  },
  {
   "cell_type": "code",
   "execution_count": 26,
   "metadata": {},
   "outputs": [
    {
     "name": "stdout",
     "output_type": "stream",
     "text": [
      "[{'example_id': 'q9zjh7Uw7Q', 'label': 'No', 'statement': 'Người xem dưới 16 tuổi được xem phim có nội dung thuộc phân loại T18', 'article_id': '32', 'law_id': 'Luật Điện ảnh 2022', 'index': 0}, {'example_id': 'ckQFn8y202', 'label': 'No', 'statement': 'Trong vòng 03 ngày làm việc, kể từ ngày người cai nghiện ma túy sử dụng dịch vụ hoặc tự ý chấm dứt việc sử dụng dịch vụ hoặc hoàn thành dịch vụ phải thông báo cho Ủy ban nhân dân cấp xã nơi người đó đăng ký cai nghiện ma túy tự nguyện tại gia đình, cộng đồng.', 'article_id': '30', 'law_id': 'Luật Phòng, chống ma túy 2021', 'index': 1}, {'example_id': '3ROu621ZEO', 'label': 'Yes', 'statement': 'Viên chức có 02 năm liên tiếp bị phân loại đánh giá ở mức độ không hoàn thành nhiệm vụ', 'article_id': '29', 'law_id': 'Luật Viên chức 2010', 'index': 2}]\n"
     ]
    }
   ],
   "source": [
    "# Chuyển DataFrame thành danh sách các từ điển\n",
    "list_from_new_relevant_articles = new_relevant_articles.to_dict('records')\n",
    "\n",
    "# Hiện thị danh sách này\n",
    "print(list_from_new_relevant_articles[0:3])"
   ]
  },
  {
   "cell_type": "markdown",
   "metadata": {},
   "source": [
    "# Xử lý dành cho law-id"
   ]
  },
  {
   "cell_type": "code",
   "execution_count": null,
   "metadata": {},
   "outputs": [],
   "source": [
    "import unidecode\n",
    "dict_data = {}\n",
    "# intent_list = []  # Danh sách để lưu các giá trị utter\n",
    "\n",
    "\n",
    "for item in list_from_new_relevant_articles:\n",
    "    KeyIte = f'{unidecode.unidecode(item[\"law_id\"].replace(\",\",\"\").replace(\" \",\"\"))}}'\n",
    "    if(KeyIte in dict_data):\n",
    "        dict_data[KeyIte] += f'\\n- {item[\"statement\"]}'\n",
    "    else:\n",
    "        dict_data[KeyIte] = f'- {item[\"statement\"]}'\n",
    "\n",
    "ListNLU = []\n",
    "for i in dict_data:\n",
    "    NestedNLU = {}\n",
    "    NestedNLU[\"intent\"] = i\n",
    "    NestedNLU[\"examples\"] = dict_data[i]\n",
    "    ListNLU.append(NestedNLU)\n",
    "\n",
    "FinalNLUJson = {}\n",
    "FinalNLUJson[\"version\"] = \"3.1\"\n",
    "FinalNLUJson[\"nlu\"] = ListNLU\n",
    "print(FinalNLUJson['nlu'][1])"
   ]
  },
  {
   "cell_type": "markdown",
   "metadata": {},
   "source": [
    "# Xử lý dành cho law-id và article-id"
   ]
  },
  {
   "cell_type": "code",
   "execution_count": 27,
   "metadata": {},
   "outputs": [
    {
     "name": "stdout",
     "output_type": "stream",
     "text": [
      "{'intent': 'LuatPhongchongmatuy2021_30', 'examples': '- Trong vòng 03 ngày làm việc, kể từ ngày người cai nghiện ma túy sử dụng dịch vụ hoặc tự ý chấm dứt việc sử dụng dịch vụ hoặc hoàn thành dịch vụ phải thông báo cho Ủy ban nhân dân cấp xã nơi người đó đăng ký cai nghiện ma túy tự nguyện tại gia đình, cộng đồng.'}\n"
     ]
    }
   ],
   "source": [
    "import unidecode\n",
    "dict_data = {}\n",
    "# intent_list = []  # Danh sách để lưu các giá trị utter\n",
    "\n",
    "\n",
    "for item in list_from_new_relevant_articles:\n",
    "    KeyIte = f'{unidecode.unidecode(item[\"law_id\"].replace(\",\",\"\").replace(\" \",\"\"))}_{item[\"article_id\"]}'\n",
    "    if(KeyIte in dict_data):\n",
    "        dict_data[KeyIte] += f'\\n- {item[\"statement\"]}'\n",
    "    else:\n",
    "        dict_data[KeyIte] = f'- {item[\"statement\"]}'\n",
    "\n",
    "ListNLU = []\n",
    "for i in dict_data:\n",
    "    NestedNLU = {}\n",
    "    NestedNLU[\"intent\"] = i\n",
    "    NestedNLU[\"examples\"] = dict_data[i]\n",
    "    ListNLU.append(NestedNLU)\n",
    "\n",
    "FinalNLUJson = {}\n",
    "FinalNLUJson[\"version\"] = \"3.1\"\n",
    "FinalNLUJson[\"nlu\"] = ListNLU\n",
    "print(FinalNLUJson['nlu'][1])"
   ]
  },
  {
   "cell_type": "code",
   "execution_count": null,
   "metadata": {},
   "outputs": [],
   "source": []
  },
  {
   "cell_type": "code",
   "execution_count": 28,
   "metadata": {},
   "outputs": [
    {
     "name": "stdout",
     "output_type": "stream",
     "text": [
      "Dữ liệu đã được ghi vào 'nlu_convert_python.json' thành công.\n"
     ]
    }
   ],
   "source": [
    "# Tên file mà bạn muốn lưu dữ liệu vào\n",
    "file_name = 'nlu_convert_python.json'\n",
    "\n",
    "# Ghi dữ liệu YAML vào tệp tin\n",
    "with open(file_name, 'w+', encoding='utf-8') as file:\n",
    "    json.dump(FinalNLUJson, file, ensure_ascii=False)\n",
    "\n",
    "print(f\"Dữ liệu đã được ghi vào '{file_name}' thành công.\")"
   ]
  },
  {
   "cell_type": "code",
   "execution_count": 30,
   "metadata": {},
   "outputs": [],
   "source": [
    "# !pip install unicode"
   ]
  },
  {
   "cell_type": "code",
   "execution_count": 31,
   "metadata": {},
   "outputs": [
    {
     "ename": "SyntaxError",
     "evalue": "invalid syntax (1012770916.py, line 1)",
     "output_type": "error",
     "traceback": [
      "\u001b[1;36m  Input \u001b[1;32mIn [31]\u001b[1;36m\u001b[0m\n\u001b[1;33m    Link convert Json sang YAML của RASA\u001b[0m\n\u001b[1;37m         ^\u001b[0m\n\u001b[1;31mSyntaxError\u001b[0m\u001b[1;31m:\u001b[0m invalid syntax\n"
     ]
    }
   ],
   "source": [
    "# Link convert Json sang YAML của RASA\n",
    "#https://onlineyamltools.com/convert-yaml-to-json"
   ]
  },
  {
   "cell_type": "code",
   "execution_count": null,
   "metadata": {},
   "outputs": [],
   "source": [
    "{\n",
    "  \"version\": \"3.1\",\n",
    "  \"stories\": [\n",
    "    {\n",
    "      \"story\": \"hello path 1\",\n",
    "      \"steps\": [\n",
    "        {\n",
    "          \"intent\": \"greet\"\n",
    "        },\n",
    "        {\n",
    "          \"action\": \"utter_greet\"\n",
    "        },\n",
    "        {\n",
    "          \"intent\": \"give_name\"\n",
    "        },\n",
    "        {\n",
    "          \"action\": \"utter_greet_with_name\"\n",
    "        },\n",
    "        {\n",
    "          \"intent\": \"ask_name\"\n",
    "        },\n",
    "        {\n",
    "          \"action\": \"utter_ask_name\"\n",
    "        },\n",
    "        {\n",
    "          \"intent\": \"bye\"\n",
    "        },\n",
    "        {\n",
    "          \"action\": \"utter_bye\"\n",
    "        }\n",
    "      ]\n",
    "    },\n",
    "    {\n",
    "      \"story\": \"give name\",\n",
    "      \"steps\": [\n",
    "        {\n",
    "          \"intent\": \"give_name\"\n",
    "        },\n",
    "        {\n",
    "          \"action\": \"utter_greet_with_name\"\n",
    "        }\n",
    "      ]\n",
    "    },\n",
    "    {"
   ]
  },
  {
   "cell_type": "code",
   "execution_count": 35,
   "metadata": {},
   "outputs": [
    {
     "name": "stdout",
     "output_type": "stream",
     "text": [
      "[{'story': 'LuatDienanh2022_32', 'steps': [{'intent': 'LuatDienanh2022_32'}, {'action': 'utter_LuatDienanh2022_32'}]}, {'story': 'LuatPhongchongmatuy2021_30', 'steps': [{'intent': 'LuatPhongchongmatuy2021_30'}, {'action': 'utter_LuatPhongchongmatuy2021_30'}]}]\n"
     ]
    }
   ],
   "source": [
    "output_story = []\n",
    "for i in dict_data:\n",
    "    story = i\n",
    "    steps = []\n",
    "    steps.append({\"intent\":i})\n",
    "    steps.append({\"action\":f'utter_{i}'})\n",
    "    output_story.append({\"story\": story, \"steps\": steps})\n",
    "print(output_story[0:2])"
   ]
  },
  {
   "cell_type": "code",
   "execution_count": 38,
   "metadata": {},
   "outputs": [
    {
     "name": "stdout",
     "output_type": "stream",
     "text": [
      "[{'story': 'LuatPhongchongmatuy2021_30', 'steps': [{'intent': 'LuatPhongchongmatuy2021_30'}, {'action': 'utter_LuatPhongchongmatuy2021_30'}]}]\n"
     ]
    }
   ],
   "source": [
    "FinalStoryJson = {}\n",
    "FinalStoryJson[\"version\"] = \"3.1\"\n",
    "FinalStoryJson[\"stories\"] = output_story\n",
    "print(FinalStoryJson['stories'][1:2])"
   ]
  },
  {
   "cell_type": "code",
   "execution_count": 41,
   "metadata": {},
   "outputs": [
    {
     "name": "stdout",
     "output_type": "stream",
     "text": [
      "Dữ liệu đã được ghi vào 'Data_story.json' thành công.\n"
     ]
    }
   ],
   "source": [
    "# Tên file mà bạn muốn lưu dữ liệu vào\n",
    "file_name = 'Data_story.json'\n",
    "\n",
    "# Ghi dữ liệu YAML vào tệp tin\n",
    "with open(file_name, 'w', encoding='utf-8') as file:\n",
    "    json.dump(FinalStoryJson, file, ensure_ascii=False)\n",
    "\n",
    "print(f\"Dữ liệu đã được ghi vào '{file_name}' thành công.\")"
   ]
  },
  {
   "cell_type": "code",
   "execution_count": 54,
   "metadata": {},
   "outputs": [
    {
     "name": "stdout",
     "output_type": "stream",
     "text": [
      "- utter_LuatDienanh2022_32\n",
      "- utter_LuatPhongchongmatuy2021_30\n",
      "- utter_LuatVienchuc2010_29\n",
      "- utter_LuatPhongchongmatuy2021_28\n",
      "- utter_LuatVienchuc2010_14\n",
      "- utter_LuatPhongchongmatuy2021_39\n",
      "- utter_LuatPhongchongmatuy2021_49\n",
      "- utter_LuatVienchuc2010_11\n",
      "- utter_LuatGiaoduc2019_44\n",
      "- utter_LuatPhongchongmatuy2021_32\n",
      "- utter_LuatVienchuc2010_46\n",
      "- utter_LuatGiaoduc2019_39\n",
      "- utter_LuatGiaoduc2019_38\n",
      "- utter_LuatPhongchongmatuy2021_24\n",
      "- utter_LuatGiaoduc2019_18\n",
      "- utter_LuatPhongchongmatuy2021_48\n",
      "- utter_LuatGiaoduc2019_51\n",
      "- utter_LuatVienchuc2010_28\n",
      "- utter_LuatGiaoduc2019_21\n",
      "- utter_LuatThanhnien2020_37\n",
      "- utter_LuatThanhnien2020_28\n",
      "- utter_LuatGiaoduc2019_20\n",
      "- utter_LuatGiaoduc2019_64\n",
      "- utter_LuatGiaoduc2019_3\n",
      "- utter_LuatPhongchongmatuy2021_31\n",
      "- utter_LuatPhongchongmatuy2021_23\n",
      "- utter_LuatGiaoduc2019_43\n",
      "- utter_LuatThanhnien2020_21\n",
      "- utter_LuatVienchuc2010_33\n",
      "- utter_LuatThanhnien2020_9\n",
      "- utter_LuatGiaoduc2019_6\n",
      "- utter_LuatVienchuc2010_8\n",
      "- utter_LuatGiaoduc2019_8\n",
      "- utter_LuatPhongchongmatuy2021_46\n",
      "- utter_LuatVienchuc2010_41\n",
      "- utter_LuatVienchuc2010_26\n",
      "- utter_LuatPhongchongmatuy2021_35\n",
      "- utter_LuatThanhnien2020_25\n",
      "- utter_LuatDienanh2022_45\n",
      "- utter_LuatThanhnien2020_6\n",
      "- utter_LuatPhongchongmatuy2021_17\n",
      "- utter_LuatGiaoduc2019_11\n",
      "- utter_LuatGiaoduc2019_41\n",
      "- utter_LuatVienchuc2010_27\n",
      "- utter_LuatGiaoduc2019_66\n",
      "- utter_LuatDienanh2022_27\n",
      "- utter_LuatVienchuc2010_23\n",
      "- utter_LuatDienanh2022_35\n",
      "- utter_LuatGiaoduc2019_2\n",
      "- utter_LuatGiaoduc2019_46\n",
      "- utter_LuatThanhnien2020_27\n",
      "- utter_LuatPhongchongmatuy2021_40\n",
      "- utter_LuatPhongchongmatuy2021_36\n",
      "- utter_LuatGiaoduc2019_22\n",
      "- utter_LuatPhongchongmatuy2021_26\n",
      "- utter_LuatGiaoduc2019_17\n",
      "- utter_LuatPhongchongmatuy2021_10\n",
      "- utter_LuatVienchuc2010_56\n",
      "- utter_LuatVienchuc2010_9\n",
      "- utter_LuatPhongchongmatuy2021_14\n",
      "- utter_LuatVienchuc2010_52\n",
      "- utter_LuatGiaoduc2019_70\n"
     ]
    }
   ],
   "source": [
    "for i in dict_data:\n",
    "    print(f'- utter_{i}')"
   ]
  },
  {
   "cell_type": "code",
   "execution_count": null,
   "metadata": {},
   "outputs": [],
   "source": []
  }
 ],
 "metadata": {
  "kernelspec": {
   "display_name": "Python 3 (ipykernel)",
   "language": "python",
   "name": "python3"
  },
  "language_info": {
   "codemirror_mode": {
    "name": "ipython",
    "version": 3
   },
   "file_extension": ".py",
   "mimetype": "text/x-python",
   "name": "python",
   "nbconvert_exporter": "python",
   "pygments_lexer": "ipython3",
   "version": "3.9.13"
  }
 },
 "nbformat": 4,
 "nbformat_minor": 4
}
