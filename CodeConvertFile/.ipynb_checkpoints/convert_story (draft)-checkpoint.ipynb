{
 "cells": [
  {
   "cell_type": "code",
   "execution_count": 23,
   "metadata": {
    "id": "2QmrfqP38lMJ"
   },
   "outputs": [],
   "source": [
    "import pandas as pd\n",
    "import matplotlib.pyplot as plt\n",
    "import json\n",
    "import numpy as np\n"
   ]
  },
  {
   "cell_type": "code",
   "execution_count": 24,
   "metadata": {
    "id": "Gxl5iaY-8f4f"
   },
   "outputs": [],
   "source": [
    "df = pd.read_json(\"../VLSP2023-LTER-Data/legal_passages.json\")"
   ]
  },
  {
   "cell_type": "code",
   "execution_count": 25,
   "metadata": {
    "id": "y-r6pIRD8Y2_"
   },
   "outputs": [],
   "source": [
    "def getTextInArticles(df):\n",
    "  result = []  # Danh sách lưu kết quả\n",
    "  # Truy cập các cột và hàng trong DataFrame\n",
    "  for index, row in df.iterrows():\n",
    "    item_id = row['id']\n",
    "    articles = row['articles']\n",
    "    for article in articles:\n",
    "        article_id = article['id']\n",
    "        text = article['text']\n",
    "\n",
    "        result.append({'article_id': article_id, 'text': text, 'id': item_id})  # Thêm kết quả vào danh sách\n",
    "\n",
    "  result_df = pd.DataFrame(result)  # Chuyển đổi danh sách thành DataFrame\n",
    "  # result_df['index'] = range(len(result_df))\n",
    "  return result_df"
   ]
  },
  {
   "cell_type": "code",
   "execution_count": 26,
   "metadata": {
    "colab": {
     "base_uri": "https://localhost:8080/"
    },
    "id": "hb4XQQvsUx34",
    "outputId": "9e38cdb9-e322-4674-9db7-950fb21b672a"
   },
   "outputs": [
    {
     "name": "stdout",
     "output_type": "stream",
     "text": [
      "{'article_id': '1', 'text': 'Phạm vi điều chỉnh\\n\\nLuật này quy định về viên chức; quyền nghĩa vụ của viên chức; tuyển dụng, sử dụng và quản lý viên chức trong đơn vị sự nghiệp công lập.', 'id': 'Luật Viên chức 2010'}\n"
     ]
    }
   ],
   "source": [
    "# Chạy hàm để lấy DataFrame\n",
    "new_df = getTextInArticles(df)\n",
    "\n",
    "# Chuyển DataFrame thành danh sách các từ điển\n",
    "list_from_df = new_df.to_dict('records')\n",
    "\n",
    "# Hiện thị danh sách này\n",
    "print(list_from_df[0])"
   ]
  },
  {
   "cell_type": "code",
   "execution_count": 27,
   "metadata": {
    "id": "QDTzmdF8758g"
   },
   "outputs": [],
   "source": [
    "import json\n",
    "import yaml\n",
    "from unidecode import unidecode"
   ]
  },
  {
   "cell_type": "code",
   "execution_count": 28,
   "metadata": {
    "id": "QA6cybBAEpnR"
   },
   "outputs": [],
   "source": [
    "yaml_data = {}\n",
    "utter_list = []  # Danh sách để lưu các giá trị utter\n",
    "for item in list_from_df:\n",
    "    utter = f'utter_{unidecode(item[\"id\"].replace(\" \", \"\").replace(\",\",\"\"))}_{item[\"article_id\"]}'\n",
    "    utter_list.append(utter)  # Thêm giá trị utter vào danh sách\n",
    "    yaml_data[utter] = {\"- text\": item[\"text\"]}\n"
   ]
  },
  {
   "cell_type": "code",
   "execution_count": 10,
   "metadata": {
    "colab": {
     "base_uri": "https://localhost:8080/"
    },
    "id": "EEB_kACbC7f9",
    "outputId": "d24a484c-7733-422c-a849-874d26d6317e"
   },
   "outputs": [
    {
     "name": "stdout",
     "output_type": "stream",
     "text": [
      "Dữ liệu đã được ghi vào 'Data_domain.yml' thành công.\n"
     ]
    }
   ],
   "source": [
    "# Tên file mà bạn muốn lưu dữ liệu vào\n",
    "file_name = 'Data_domain.yml'\n",
    "\n",
    "# Ghi dữ liệu YAML vào tệp tin\n",
    "with open(file_name, 'w', encoding='utf-8') as file:\n",
    "    yaml.dump(yaml_data, file, default_flow_style=False, allow_unicode=True)\n",
    "\n",
    "print(f\"Dữ liệu đã được ghi vào '{file_name}' thành công.\")"
   ]
  },
  {
   "cell_type": "code",
   "execution_count": 29,
   "metadata": {
    "id": "F6TtroIJuTJj"
   },
   "outputs": [],
   "source": [
    "train_df = pd.read_json(\"../VLSP2023-LTER-Data/train.json\")"
   ]
  },
  {
   "cell_type": "code",
   "execution_count": 30,
   "metadata": {
    "id": "8FpHi4jAuYg_"
   },
   "outputs": [],
   "source": [
    "def getNewTrainData(df):\n",
    "  result = []  # Danh sách lưu kết quả\n",
    "  # Truy cập các cột và hàng trong DataFrame\n",
    "  for index, row in df.iterrows():\n",
    "    question_id = row['example_id']\n",
    "    label = row['label']\n",
    "    text = row['statement']\n",
    "    articles = row['legal_passages']\n",
    "\n",
    "    for article in articles:\n",
    "        article_id = article['article_id']\n",
    "        law_id = article['law_id']\n",
    "\n",
    "        result.append({'example_id': question_id,'label':label, 'statement': text, 'article_id': article_id, 'law_id': law_id, })  # Thêm kết quả vào danh sách\n",
    "\n",
    "  result_df = pd.DataFrame(result)  # Chuyển đổi danh sách thành DataFrame\n",
    "  result_df['index'] = range(len(result_df))\n",
    "  return result_df"
   ]
  },
  {
   "cell_type": "code",
   "execution_count": 31,
   "metadata": {
    "colab": {
     "base_uri": "https://localhost:8080/",
     "height": 258
    },
    "id": "EAgQ_gbMuaW4",
    "outputId": "ca39ec41-13bc-46dc-e30f-8ad795cce96f"
   },
   "outputs": [
    {
     "data": {
      "text/html": [
       "<div>\n",
       "<style scoped>\n",
       "    .dataframe tbody tr th:only-of-type {\n",
       "        vertical-align: middle;\n",
       "    }\n",
       "\n",
       "    .dataframe tbody tr th {\n",
       "        vertical-align: top;\n",
       "    }\n",
       "\n",
       "    .dataframe thead th {\n",
       "        text-align: right;\n",
       "    }\n",
       "</style>\n",
       "<table border=\"1\" class=\"dataframe\">\n",
       "  <thead>\n",
       "    <tr style=\"text-align: right;\">\n",
       "      <th></th>\n",
       "      <th>example_id</th>\n",
       "      <th>label</th>\n",
       "      <th>statement</th>\n",
       "      <th>article_id</th>\n",
       "      <th>law_id</th>\n",
       "      <th>index</th>\n",
       "    </tr>\n",
       "  </thead>\n",
       "  <tbody>\n",
       "    <tr>\n",
       "      <th>0</th>\n",
       "      <td>q9zjh7Uw7Q</td>\n",
       "      <td>No</td>\n",
       "      <td>Người xem dưới 16 tuổi được xem phim có nội du...</td>\n",
       "      <td>32</td>\n",
       "      <td>Luật Điện ảnh 2022</td>\n",
       "      <td>0</td>\n",
       "    </tr>\n",
       "    <tr>\n",
       "      <th>1</th>\n",
       "      <td>ckQFn8y202</td>\n",
       "      <td>No</td>\n",
       "      <td>Trong vòng 03 ngày làm việc, kể từ ngày người ...</td>\n",
       "      <td>30</td>\n",
       "      <td>Luật Phòng, chống ma túy 2021</td>\n",
       "      <td>1</td>\n",
       "    </tr>\n",
       "    <tr>\n",
       "      <th>2</th>\n",
       "      <td>3ROu621ZEO</td>\n",
       "      <td>Yes</td>\n",
       "      <td>Viên chức có 02 năm liên tiếp bị phân loại đán...</td>\n",
       "      <td>29</td>\n",
       "      <td>Luật Viên chức 2010</td>\n",
       "      <td>2</td>\n",
       "    </tr>\n",
       "    <tr>\n",
       "      <th>3</th>\n",
       "      <td>VT1QuVmhCc</td>\n",
       "      <td>Yes</td>\n",
       "      <td>Các biện pháp cai nghiện ma túy là những biện ...</td>\n",
       "      <td>28</td>\n",
       "      <td>Luật Phòng, chống ma túy 2021</td>\n",
       "      <td>3</td>\n",
       "    </tr>\n",
       "    <tr>\n",
       "      <th>4</th>\n",
       "      <td>0MwITLtbmg</td>\n",
       "      <td>No</td>\n",
       "      <td>Viên chức thuộc một đơn vị sự nghiệp công lập ...</td>\n",
       "      <td>14</td>\n",
       "      <td>Luật Viên chức 2010</td>\n",
       "      <td>4</td>\n",
       "    </tr>\n",
       "  </tbody>\n",
       "</table>\n",
       "</div>"
      ],
      "text/plain": [
       "   example_id label                                          statement  \\\n",
       "0  q9zjh7Uw7Q    No  Người xem dưới 16 tuổi được xem phim có nội du...   \n",
       "1  ckQFn8y202    No  Trong vòng 03 ngày làm việc, kể từ ngày người ...   \n",
       "2  3ROu621ZEO   Yes  Viên chức có 02 năm liên tiếp bị phân loại đán...   \n",
       "3  VT1QuVmhCc   Yes  Các biện pháp cai nghiện ma túy là những biện ...   \n",
       "4  0MwITLtbmg    No  Viên chức thuộc một đơn vị sự nghiệp công lập ...   \n",
       "\n",
       "  article_id                         law_id  index  \n",
       "0         32             Luật Điện ảnh 2022      0  \n",
       "1         30  Luật Phòng, chống ma túy 2021      1  \n",
       "2         29            Luật Viên chức 2010      2  \n",
       "3         28  Luật Phòng, chống ma túy 2021      3  \n",
       "4         14            Luật Viên chức 2010      4  "
      ]
     },
     "execution_count": 31,
     "metadata": {},
     "output_type": "execute_result"
    }
   ],
   "source": [
    "new_relevant_articles = getNewTrainData(train_df)\n",
    "new_relevant_articles.head()"
   ]
  },
  {
   "cell_type": "code",
   "execution_count": 32,
   "metadata": {
    "colab": {
     "base_uri": "https://localhost:8080/"
    },
    "id": "PAJQg6PBu_-6",
    "outputId": "59c9386b-eb8f-40c1-a9ab-bba7e005a889"
   },
   "outputs": [
    {
     "name": "stdout",
     "output_type": "stream",
     "text": [
      "{'example_id': 'q9zjh7Uw7Q', 'label': 'No', 'statement': 'Người xem dưới 16 tuổi được xem phim có nội dung thuộc phân loại T18', 'article_id': '32', 'law_id': 'Luật Điện ảnh 2022', 'index': 0}\n"
     ]
    }
   ],
   "source": [
    "# Chạy hàm để lấy DataFrame\n",
    "new_relevant_articles = getNewTrainData(train_df)\n",
    "\n",
    "# Chuyển DataFrame thành danh sách các từ điển\n",
    "list_from_new_relevant_articles = new_relevant_articles.to_dict('records')\n",
    "\n",
    "# Hiện thị danh sách này\n",
    "print(list_from_new_relevant_articles[0])"
   ]
  },
  {
   "cell_type": "code",
   "execution_count": 33,
   "metadata": {
    "id": "SX7jXqQUvLG9"
   },
   "outputs": [],
   "source": [
    "yaml_data = {}\n",
    "intent_list = []  # Danh sách để lưu các giá trị utter\n",
    "for item in list_from_new_relevant_articles:\n",
    "    intent = f'- intent:{unidecode(item[\"law_id\"].replace(\" \", \"\").replace(\",\",\"\"))}_{item[\"article_id\"]}'\n",
    "    intent_list.append(intent)  # Thêm giá trị utter vào danh sách\n",
    "    yaml_data[intent] = {\"examples: |\": item[\"statement\"]}\n"
   ]
  },
  {
   "cell_type": "code",
   "execution_count": 22,
   "metadata": {
    "colab": {
     "base_uri": "https://localhost:8080/"
    },
    "id": "pOl4ncyRwFPt",
    "outputId": "62d1b536-e5aa-420a-ee85-8880171d2472"
   },
   "outputs": [
    {
     "name": "stdout",
     "output_type": "stream",
     "text": [
      "Dữ liệu đã được ghi vào 'Data_intent.yml' thành công.\n"
     ]
    }
   ],
   "source": [
    "# Tên file mà bạn muốn lưu dữ liệu vào\n",
    "file_name = 'Data_intent.yml'\n",
    "\n",
    "# Ghi dữ liệu YAML vào tệp tin\n",
    "with open(file_name, 'w', encoding='utf-8') as file:\n",
    "    yaml.dump(yaml_data, file, default_flow_style=False, allow_unicode=True)\n",
    "\n",
    "print(f\"Dữ liệu đã được ghi vào '{file_name}' thành công.\")"
   ]
  },
  {
   "cell_type": "code",
   "execution_count": 23,
   "metadata": {
    "colab": {
     "base_uri": "https://localhost:8080/"
    },
    "id": "XZJwo9PRzahX",
    "outputId": "b1f7637c-ba55-44fb-fac1-53f96a07d97f"
   },
   "outputs": [
    {
     "name": "stdout",
     "output_type": "stream",
     "text": [
      "Danh sách các giá trị utter đã được ghi vào 'intent_list.txt' thành công.\n"
     ]
    }
   ],
   "source": [
    "# Tên file mà bạn muốn lưu danh sách vào\n",
    "intent_file = 'intent_list.txt'\n",
    "\n",
    "# Ghi danh sách các giá trị utter vào file text\n",
    "with open(intent_file, 'w', encoding='utf-8') as file:\n",
    "    for intent in intent_list:\n",
    "        file.write(intent + '\\n')  # Ghi từng giá trị utter và xuống dòng\n",
    "\n",
    "print(f\"Danh sách các giá trị utter đã được ghi vào '{intent_file}' thành công.\")"
   ]
  },
  {
   "cell_type": "code",
   "execution_count": 24,
   "metadata": {
    "id": "uE9JHGKj61iU"
   },
   "outputs": [],
   "source": [
    "yaml_data = {}\n",
    "intent_list = []  # Danh sách để lưu các giá trị utter\n",
    "for item in list_from_new_relevant_articles:\n",
    "    intent = f'- intent:{item[\"law_id\"].replace(\" \", \"\")}_{item[\"article_id\"]}'\n",
    "    intent_list.append(intent)  # Thêm giá trị utter vào danh sách\n",
    "    yaml_data[intent] = {\"examples: |\": item[\"statement\"]}\n"
   ]
  },
  {
   "cell_type": "code",
   "execution_count": 39,
   "metadata": {
    "id": "iRC9bWpx75Ph"
   },
   "outputs": [],
   "source": [
    "output_story = []\n",
    "for item in list_from_df:\n",
    "    story = f\"{item['id'].replace(' ', '')}_{item['article_id']}\"\n",
    "    steps = [\n",
    "        {\"intent\": f\"{unidecode(item['id'].replace(' ', '').replace(',',''))}_{item['article_id']}\"},\n",
    "        {\"action\": f\"utter_{unidecode(item['id'].replace(' ', '').replace(',',''))}_{item['article_id']}\"}\n",
    "    ]\n",
    "    output_story.append({\"- story\": story, \"steps\": steps})\n"
   ]
  },
  {
   "cell_type": "code",
   "execution_count": 40,
   "metadata": {
    "colab": {
     "base_uri": "https://localhost:8080/"
    },
    "id": "7toQEzq9AWwp",
    "outputId": "f645550b-8395-4213-ae14-d768a0458f9f"
   },
   "outputs": [
    {
     "name": "stdout",
     "output_type": "stream",
     "text": [
      "Dữ liệu đã được ghi vào 'Data_story.yml' thành công.\n"
     ]
    }
   ],
   "source": [
    "# Tên file mà bạn muốn lưu dữ liệu vào\n",
    "file_name = 'Data_story.yml'\n",
    "\n",
    "# Ghi dữ liệu YAML vào tệp tin\n",
    "with open(file_name, 'w', encoding='utf-8') as file:\n",
    "    json.dump(output_story, file, allow_unicode=True)\n",
    "\n",
    "print(f\"Dữ liệu đã được ghi vào '{file_name}' thành công.\")"
   ]
  },
  {
   "cell_type": "code",
   "execution_count": 41,
   "metadata": {
    "colab": {
     "base_uri": "https://localhost:8080/"
    },
    "id": "i37N1TesCzxs",
    "outputId": "d6a191c4-de7b-4e78-f9e7-5a4038019954"
   },
   "outputs": [
    {
     "name": "stdout",
     "output_type": "stream",
     "text": [
      "Dữ liệu đã được ghi vào 'Data_story.yml' thành công.\n"
     ]
    }
   ],
   "source": [
    "import yaml\n",
    "\n",
    "# Cấu trúc dữ liệu output_story trước khi ghi vào file\n",
    "formatted_output = \"\\n\".join([yaml.dump(d, default_flow_style=False, allow_unicode=True) for d in output_story])\n",
    "\n",
    "# Tên file mà bạn muốn lưu dữ liệu vào\n",
    "file_name = 'Data_story.yml'\n",
    "\n",
    "# Ghi dữ liệu đã định dạng vào tệp tin\n",
    "with open(file_name, 'w', encoding='utf-8') as file:\n",
    "    file.write(formatted_output)\n",
    "\n",
    "print(f\"Dữ liệu đã được ghi vào '{file_name}' thành công.\")\n"
   ]
  },
  {
   "cell_type": "code",
   "execution_count": null,
   "metadata": {},
   "outputs": [],
   "source": []
  }
 ],
 "metadata": {
  "colab": {
   "provenance": []
  },
  "kernelspec": {
   "display_name": "Python 3 (ipykernel)",
   "language": "python",
   "name": "python3"
  },
  "language_info": {
   "codemirror_mode": {
    "name": "ipython",
    "version": 3
   },
   "file_extension": ".py",
   "mimetype": "text/x-python",
   "name": "python",
   "nbconvert_exporter": "python",
   "pygments_lexer": "ipython3",
   "version": "3.9.13"
  }
 },
 "nbformat": 4,
 "nbformat_minor": 4
}
