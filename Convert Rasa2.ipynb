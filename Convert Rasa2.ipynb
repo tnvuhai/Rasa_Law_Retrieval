{
 "cells": [
  {
   "cell_type": "code",
   "execution_count": 2,
   "metadata": {},
   "outputs": [],
   "source": [
    "import pandas as pd"
   ]
  },
  {
   "cell_type": "code",
   "execution_count": 3,
   "metadata": {},
   "outputs": [],
   "source": [
    "df = pd.read_json(\".\\VLSP2023-LTER-Data\\legal_passages.json\")"
   ]
  },
  {
   "cell_type": "code",
   "execution_count": 4,
   "metadata": {},
   "outputs": [
    {
     "name": "stdout",
     "output_type": "stream",
     "text": [
      "18\n"
     ]
    },
    {
     "data": {
      "text/html": [
       "<div>\n",
       "<style scoped>\n",
       "    .dataframe tbody tr th:only-of-type {\n",
       "        vertical-align: middle;\n",
       "    }\n",
       "\n",
       "    .dataframe tbody tr th {\n",
       "        vertical-align: top;\n",
       "    }\n",
       "\n",
       "    .dataframe thead th {\n",
       "        text-align: right;\n",
       "    }\n",
       "</style>\n",
       "<table border=\"1\" class=\"dataframe\">\n",
       "  <thead>\n",
       "    <tr style=\"text-align: right;\">\n",
       "      <th></th>\n",
       "      <th>id</th>\n",
       "      <th>articles</th>\n",
       "    </tr>\n",
       "  </thead>\n",
       "  <tbody>\n",
       "    <tr>\n",
       "      <th>0</th>\n",
       "      <td>Luật Viên chức 2010</td>\n",
       "      <td>[{'id': '1', 'text': 'Phạm vi điều chỉnh\n",
       "\n",
       "Luật...</td>\n",
       "    </tr>\n",
       "    <tr>\n",
       "      <th>1</th>\n",
       "      <td>Bộ Luật Dân sự 2015</td>\n",
       "      <td>[{'id': '1', 'text': 'Phạm vi điều chỉnh\n",
       "\n",
       "Bộ l...</td>\n",
       "    </tr>\n",
       "    <tr>\n",
       "      <th>2</th>\n",
       "      <td>Luật Giáo dục 2019</td>\n",
       "      <td>[{'id': '1', 'text': 'Phạm vi điều chỉnh\n",
       "\n",
       "Luật...</td>\n",
       "    </tr>\n",
       "    <tr>\n",
       "      <th>3</th>\n",
       "      <td>Luật Tổ chức viện kiểm sát nhân dân 2014</td>\n",
       "      <td>[{'id': '1', 'text': 'Phạm vi điều chỉnh\n",
       "\n",
       "Luật...</td>\n",
       "    </tr>\n",
       "    <tr>\n",
       "      <th>4</th>\n",
       "      <td>Luật Dầu khí 2022</td>\n",
       "      <td>[{'id': '1', 'text': 'Phạm vi điều chỉnh\n",
       "\n",
       "Luật...</td>\n",
       "    </tr>\n",
       "  </tbody>\n",
       "</table>\n",
       "</div>"
      ],
      "text/plain": [
       "                                         id  \\\n",
       "0                       Luật Viên chức 2010   \n",
       "1                       Bộ Luật Dân sự 2015   \n",
       "2                        Luật Giáo dục 2019   \n",
       "3  Luật Tổ chức viện kiểm sát nhân dân 2014   \n",
       "4                         Luật Dầu khí 2022   \n",
       "\n",
       "                                            articles  \n",
       "0  [{'id': '1', 'text': 'Phạm vi điều chỉnh\n",
       "\n",
       "Luật...  \n",
       "1  [{'id': '1', 'text': 'Phạm vi điều chỉnh\n",
       "\n",
       "Bộ l...  \n",
       "2  [{'id': '1', 'text': 'Phạm vi điều chỉnh\n",
       "\n",
       "Luật...  \n",
       "3  [{'id': '1', 'text': 'Phạm vi điều chỉnh\n",
       "\n",
       "Luật...  \n",
       "4  [{'id': '1', 'text': 'Phạm vi điều chỉnh\n",
       "\n",
       "Luật...  "
      ]
     },
     "execution_count": 4,
     "metadata": {},
     "output_type": "execute_result"
    }
   ],
   "source": [
    "print(len(df))\n",
    "df.head()"
   ]
  },
  {
   "cell_type": "code",
   "execution_count": 5,
   "metadata": {},
   "outputs": [],
   "source": [
    "utter_id = df[\"id\"]\n",
    "articles = df[\"articles\"]"
   ]
  },
  {
   "cell_type": "code",
   "execution_count": 6,
   "metadata": {},
   "outputs": [],
   "source": [
    "def getNewTrainData(df):\n",
    "    result = []  # Danh sách lưu kết quả\n",
    "  # Truy cập các cột và hàng trong DataFrame\n",
    "    print(df.iterrows())\n",
    "    for index, row in df.iterrows():\n",
    "        item_id = row['id']\n",
    "        articles = row['articles']\n",
    "        for article in articles:\n",
    "            article_id = article['id']\n",
    "            text = article['text']\n",
    "\n",
    "            result.append({'article_id': article_id, 'text': text, 'id': item_id})  # Thêm kết quả vào danh sách\n",
    "\n",
    "    result_df = pd.DataFrame(result)  # Chuyển đổi danh sách thành DataFrame\n",
    "    # result_df['index'] = range(len(result_df))\n",
    "    return result_df"
   ]
  },
  {
   "cell_type": "code",
   "execution_count": 7,
   "metadata": {},
   "outputs": [
    {
     "name": "stdout",
     "output_type": "stream",
     "text": [
      "<generator object DataFrame.iterrows at 0x0000021A31A5B2E0>\n",
      "2256\n"
     ]
    },
    {
     "data": {
      "text/html": [
       "<div>\n",
       "<style scoped>\n",
       "    .dataframe tbody tr th:only-of-type {\n",
       "        vertical-align: middle;\n",
       "    }\n",
       "\n",
       "    .dataframe tbody tr th {\n",
       "        vertical-align: top;\n",
       "    }\n",
       "\n",
       "    .dataframe thead th {\n",
       "        text-align: right;\n",
       "    }\n",
       "</style>\n",
       "<table border=\"1\" class=\"dataframe\">\n",
       "  <thead>\n",
       "    <tr style=\"text-align: right;\">\n",
       "      <th></th>\n",
       "      <th>article_id</th>\n",
       "      <th>text</th>\n",
       "      <th>id</th>\n",
       "    </tr>\n",
       "  </thead>\n",
       "  <tbody>\n",
       "    <tr>\n",
       "      <th>0</th>\n",
       "      <td>1</td>\n",
       "      <td>Phạm vi điều chỉnh\\n\\nLuật này quy định về viê...</td>\n",
       "      <td>Luật Viên chức 2010</td>\n",
       "    </tr>\n",
       "    <tr>\n",
       "      <th>1</th>\n",
       "      <td>2</td>\n",
       "      <td>Viên chức\\n\\nViên chức là công dân Việt Nam đư...</td>\n",
       "      <td>Luật Viên chức 2010</td>\n",
       "    </tr>\n",
       "    <tr>\n",
       "      <th>2</th>\n",
       "      <td>3</td>\n",
       "      <td>Giải thích từ ngữ\\n\\nTrong Luật này, các từ ng...</td>\n",
       "      <td>Luật Viên chức 2010</td>\n",
       "    </tr>\n",
       "    <tr>\n",
       "      <th>3</th>\n",
       "      <td>4</td>\n",
       "      <td>Hoạt động nghề nghiệp của viên chức\\n\\nHoạt độ...</td>\n",
       "      <td>Luật Viên chức 2010</td>\n",
       "    </tr>\n",
       "    <tr>\n",
       "      <th>4</th>\n",
       "      <td>5</td>\n",
       "      <td>Các nguyên tắc trong hoạt động nghề nghiệp của...</td>\n",
       "      <td>Luật Viên chức 2010</td>\n",
       "    </tr>\n",
       "    <tr>\n",
       "      <th>5</th>\n",
       "      <td>6</td>\n",
       "      <td>Các nguyên tắc quản lý viên chức\\n\\n1. Bảo đảm...</td>\n",
       "      <td>Luật Viên chức 2010</td>\n",
       "    </tr>\n",
       "    <tr>\n",
       "      <th>6</th>\n",
       "      <td>7</td>\n",
       "      <td>Vị trí việc làm\\n\\n1. Vị trí việc làm là công ...</td>\n",
       "      <td>Luật Viên chức 2010</td>\n",
       "    </tr>\n",
       "    <tr>\n",
       "      <th>7</th>\n",
       "      <td>8</td>\n",
       "      <td>Chức danh nghề nghiệp\\n\\n1. Chức danh nghề ngh...</td>\n",
       "      <td>Luật Viên chức 2010</td>\n",
       "    </tr>\n",
       "    <tr>\n",
       "      <th>8</th>\n",
       "      <td>9</td>\n",
       "      <td>Đơn vị sự nghiệp công lập và cơ cấu tổ chức qu...</td>\n",
       "      <td>Luật Viên chức 2010</td>\n",
       "    </tr>\n",
       "    <tr>\n",
       "      <th>9</th>\n",
       "      <td>10</td>\n",
       "      <td>Chính sách xây dựng và phát triển các đơn vị s...</td>\n",
       "      <td>Luật Viên chức 2010</td>\n",
       "    </tr>\n",
       "  </tbody>\n",
       "</table>\n",
       "</div>"
      ],
      "text/plain": [
       "  article_id                                               text  \\\n",
       "0          1  Phạm vi điều chỉnh\\n\\nLuật này quy định về viê...   \n",
       "1          2  Viên chức\\n\\nViên chức là công dân Việt Nam đư...   \n",
       "2          3  Giải thích từ ngữ\\n\\nTrong Luật này, các từ ng...   \n",
       "3          4  Hoạt động nghề nghiệp của viên chức\\n\\nHoạt độ...   \n",
       "4          5  Các nguyên tắc trong hoạt động nghề nghiệp của...   \n",
       "5          6  Các nguyên tắc quản lý viên chức\\n\\n1. Bảo đảm...   \n",
       "6          7  Vị trí việc làm\\n\\n1. Vị trí việc làm là công ...   \n",
       "7          8  Chức danh nghề nghiệp\\n\\n1. Chức danh nghề ngh...   \n",
       "8          9  Đơn vị sự nghiệp công lập và cơ cấu tổ chức qu...   \n",
       "9         10  Chính sách xây dựng và phát triển các đơn vị s...   \n",
       "\n",
       "                    id  \n",
       "0  Luật Viên chức 2010  \n",
       "1  Luật Viên chức 2010  \n",
       "2  Luật Viên chức 2010  \n",
       "3  Luật Viên chức 2010  \n",
       "4  Luật Viên chức 2010  \n",
       "5  Luật Viên chức 2010  \n",
       "6  Luật Viên chức 2010  \n",
       "7  Luật Viên chức 2010  \n",
       "8  Luật Viên chức 2010  \n",
       "9  Luật Viên chức 2010  "
      ]
     },
     "execution_count": 7,
     "metadata": {},
     "output_type": "execute_result"
    }
   ],
   "source": [
    "new_relevant_articles = getNewTrainData(df)\n",
    "print(len(new_relevant_articles))\n",
    "new_relevant_articles.head(10)"
   ]
  },
  {
   "cell_type": "code",
   "execution_count": 8,
   "metadata": {},
   "outputs": [
    {
     "name": "stdout",
     "output_type": "stream",
     "text": [
      "[{'article_id': '1', 'text': 'Phạm vi điều chỉnh\\n\\nLuật này quy định về viên chức; quyền nghĩa vụ của viên chức; tuyển dụng, sử dụng và quản lý viên chức trong đơn vị sự nghiệp công lập.', 'id': 'Luật Viên chức 2010'}, {'article_id': '2', 'text': 'Viên chức\\n\\nViên chức là công dân Việt Nam được tuyển dụng theo vị trí việc làm, làm việc tại đơn vị sự nghiệp công lập theo chế độ hợp đồng làm việc, hưởng lương từ quỹ lương của đơn vị sự nghiệp công lập theo quy định của pháp luật.', 'id': 'Luật Viên chức 2010'}, {'article_id': '3', 'text': 'Giải thích từ ngữ\\n\\nTrong Luật này, các từ ngữ dưới đây được hiểu như sau:\\n\\n1. Viên chức quản lý là người được bổ nhiệm giữ chức vụ quản lý có thời hạn, chịu trách nhiệm điều hành, tổ chức thực hiện một hoặc một số công việc trong đơn vị sự nghiệp công lập nhưng không phải là công chức và được hưởng phụ cấp chức vụ quản lý.\\n\\n2. Đạo đức nghề nghiệp là các chuẩn mực về nhận thức và hành vi phù hợp với đặc thù của từng lĩnh vực hoạt động nghề nghiệp do cơ quan, tổ chức có thẩm quyền quy định.\\n\\n3. Quy tắc ứng xử là các chuẩn mực xử sự của viên chức trong thi hành nhiệm vụ và trong quan hệ xã hội do cơ quan nhà nước có thẩm quyền ban hành, phù hợp với đặc thù công việc trong từng lĩnh vực hoạt động và được công khai để nhân dân giám sát việc chấp hành.\\n\\n4. Tuyển dụng là việc lựa chọn người có phẩm chất, trình độ và năng lực vào làm viên chức trong đơn vị sự nghiệp công lập.\\n\\n5. Hợp đồng làm việc là sự thỏa thuận bằng văn bản giữa viên chức hoặc người được tuyển dụng làm viên chức với người đứng đầu đơn vị sự nghiệp công lập về vị trí việc làm, tiền lương, chế độ đãi ngộ, điều kiện làm việc quyền và nghĩa vụ của mỗi bên.', 'id': 'Luật Viên chức 2010'}]\n"
     ]
    }
   ],
   "source": [
    "new_df = new_relevant_articles\n",
    "\n",
    "# Chuyển DataFrame thành danh sách các từ điển\n",
    "list_from_df = new_df.to_dict('records')\n",
    "\n",
    "# Hiện thị danh sách này\n",
    "print(list_from_df[0:3])"
   ]
  },
  {
   "cell_type": "code",
   "execution_count": 9,
   "metadata": {},
   "outputs": [],
   "source": [
    "import json\n",
    "import yaml"
   ]
  },
  {
   "cell_type": "code",
   "execution_count": 10,
   "metadata": {},
   "outputs": [],
   "source": [
    "yaml_data = {}\n",
    "utter_list = []  # Danh sách để lưu các giá trị utter\n",
    "for item in list_from_df:\n",
    "    utter = f'utter_{item[\"id\"].replace(\" \", \"\")}_{item[\"article_id\"]}'\n",
    "    utter_list.append(utter)  # Thêm giá trị utter vào danh sách\n",
    "    yaml_data[utter] = {'- text': item[\"text\"]}\n"
   ]
  },
  {
   "cell_type": "code",
   "execution_count": 11,
   "metadata": {},
   "outputs": [
    {
     "name": "stdout",
     "output_type": "stream",
     "text": [
      "Dữ liệu đã được ghi vào 'Data_domain.yml' thành công.\n"
     ]
    }
   ],
   "source": [
    "# Tên file mà bạn muốn lưu dữ liệu vào\n",
    "file_name = 'Data_domain.yml'\n",
    "\n",
    "# Ghi dữ liệu YAML vào tệp tin\n",
    "with open(file_name, 'w', encoding='utf-8') as file:\n",
    "    yaml.dump(yaml_data, file, default_flow_style=False, allow_unicode=True)\n",
    "\n",
    "print(f\"Dữ liệu đã được ghi vào '{file_name}' thành công.\")"
   ]
  },
  {
   "cell_type": "code",
   "execution_count": 12,
   "metadata": {},
   "outputs": [],
   "source": [
    "train_df = pd.read_json(\"./VLSP2023-LTER-Data/train.json\")"
   ]
  },
  {
   "cell_type": "code",
   "execution_count": 13,
   "metadata": {},
   "outputs": [],
   "source": [
    "train_df.to_excel('hello.xlsx')"
   ]
  },
  {
   "cell_type": "code",
   "execution_count": 14,
   "metadata": {},
   "outputs": [],
   "source": [
    "def getNewTrainData(df):\n",
    "    result = []  # Danh sách lưu kết quả\n",
    "  # Truy cập các cột và hàng trong DataFrame\n",
    "    for index, row in df.iterrows():\n",
    "        question_id = row['example_id']\n",
    "        label = row['label']\n",
    "        text = row['statement']\n",
    "        articles = row['legal_passages']\n",
    "\n",
    "        for article in articles:\n",
    "            article_id = article['article_id']\n",
    "            law_id = article['law_id']\n",
    "\n",
    "            result.append({'example_id': question_id,'label':label, 'statement': text, 'article_id': article_id, 'law_id': law_id, })  # Thêm kết quả vào danh sách\n",
    "\n",
    "    result_df = pd.DataFrame(result)  # Chuyển đổi danh sách thành DataFrame\n",
    "    result_df['index'] = range(len(result_df))\n",
    "    return result_df"
   ]
  },
  {
   "cell_type": "code",
   "execution_count": 15,
   "metadata": {},
   "outputs": [
    {
     "name": "stdout",
     "output_type": "stream",
     "text": [
      "76\n"
     ]
    },
    {
     "data": {
      "text/html": [
       "<div>\n",
       "<style scoped>\n",
       "    .dataframe tbody tr th:only-of-type {\n",
       "        vertical-align: middle;\n",
       "    }\n",
       "\n",
       "    .dataframe tbody tr th {\n",
       "        vertical-align: top;\n",
       "    }\n",
       "\n",
       "    .dataframe thead th {\n",
       "        text-align: right;\n",
       "    }\n",
       "</style>\n",
       "<table border=\"1\" class=\"dataframe\">\n",
       "  <thead>\n",
       "    <tr style=\"text-align: right;\">\n",
       "      <th></th>\n",
       "      <th>example_id</th>\n",
       "      <th>label</th>\n",
       "      <th>statement</th>\n",
       "      <th>article_id</th>\n",
       "      <th>law_id</th>\n",
       "      <th>index</th>\n",
       "    </tr>\n",
       "  </thead>\n",
       "  <tbody>\n",
       "    <tr>\n",
       "      <th>0</th>\n",
       "      <td>q9zjh7Uw7Q</td>\n",
       "      <td>No</td>\n",
       "      <td>Người xem dưới 16 tuổi được xem phim có nội du...</td>\n",
       "      <td>32</td>\n",
       "      <td>Luật Điện ảnh 2022</td>\n",
       "      <td>0</td>\n",
       "    </tr>\n",
       "    <tr>\n",
       "      <th>1</th>\n",
       "      <td>ckQFn8y202</td>\n",
       "      <td>No</td>\n",
       "      <td>Trong vòng 03 ngày làm việc, kể từ ngày người ...</td>\n",
       "      <td>30</td>\n",
       "      <td>Luật Phòng, chống ma túy 2021</td>\n",
       "      <td>1</td>\n",
       "    </tr>\n",
       "    <tr>\n",
       "      <th>2</th>\n",
       "      <td>3ROu621ZEO</td>\n",
       "      <td>Yes</td>\n",
       "      <td>Viên chức có 02 năm liên tiếp bị phân loại đán...</td>\n",
       "      <td>29</td>\n",
       "      <td>Luật Viên chức 2010</td>\n",
       "      <td>2</td>\n",
       "    </tr>\n",
       "    <tr>\n",
       "      <th>3</th>\n",
       "      <td>VT1QuVmhCc</td>\n",
       "      <td>Yes</td>\n",
       "      <td>Các biện pháp cai nghiện ma túy là những biện ...</td>\n",
       "      <td>28</td>\n",
       "      <td>Luật Phòng, chống ma túy 2021</td>\n",
       "      <td>3</td>\n",
       "    </tr>\n",
       "    <tr>\n",
       "      <th>4</th>\n",
       "      <td>0MwITLtbmg</td>\n",
       "      <td>No</td>\n",
       "      <td>Viên chức thuộc một đơn vị sự nghiệp công lập ...</td>\n",
       "      <td>14</td>\n",
       "      <td>Luật Viên chức 2010</td>\n",
       "      <td>4</td>\n",
       "    </tr>\n",
       "    <tr>\n",
       "      <th>5</th>\n",
       "      <td>iWBRVGwBcb</td>\n",
       "      <td>No</td>\n",
       "      <td>Người từ đủ 14 tuổi đến dưới 18 tuổi đang cai ...</td>\n",
       "      <td>39</td>\n",
       "      <td>Luật Phòng, chống ma túy 2021</td>\n",
       "      <td>5</td>\n",
       "    </tr>\n",
       "    <tr>\n",
       "      <th>6</th>\n",
       "      <td>XsfBrLUkvw</td>\n",
       "      <td>No</td>\n",
       "      <td>Trách nhiệm của Bộ Y tế trong việc phòng, chốn...</td>\n",
       "      <td>49</td>\n",
       "      <td>Luật Phòng, chống ma túy 2021</td>\n",
       "      <td>6</td>\n",
       "    </tr>\n",
       "    <tr>\n",
       "      <th>7</th>\n",
       "      <td>bu3nyKAUNT</td>\n",
       "      <td>No</td>\n",
       "      <td>Người xem từ 18 tuổi trở lên được pháp xem phi...</td>\n",
       "      <td>32</td>\n",
       "      <td>Luật Điện ảnh 2022</td>\n",
       "      <td>7</td>\n",
       "    </tr>\n",
       "    <tr>\n",
       "      <th>8</th>\n",
       "      <td>msHHa3bELB</td>\n",
       "      <td>Yes</td>\n",
       "      <td>Viên chức có quyền được đào tạo, bồi dưỡng nân...</td>\n",
       "      <td>11</td>\n",
       "      <td>Luật Viên chức 2010</td>\n",
       "      <td>8</td>\n",
       "    </tr>\n",
       "    <tr>\n",
       "      <th>9</th>\n",
       "      <td>RVV34aoTvI</td>\n",
       "      <td>No</td>\n",
       "      <td>Cơ sở giáo dục thường xuyên bao gồm trường đại...</td>\n",
       "      <td>44</td>\n",
       "      <td>Luật Giáo dục 2019</td>\n",
       "      <td>9</td>\n",
       "    </tr>\n",
       "  </tbody>\n",
       "</table>\n",
       "</div>"
      ],
      "text/plain": [
       "   example_id label                                          statement  \\\n",
       "0  q9zjh7Uw7Q    No  Người xem dưới 16 tuổi được xem phim có nội du...   \n",
       "1  ckQFn8y202    No  Trong vòng 03 ngày làm việc, kể từ ngày người ...   \n",
       "2  3ROu621ZEO   Yes  Viên chức có 02 năm liên tiếp bị phân loại đán...   \n",
       "3  VT1QuVmhCc   Yes  Các biện pháp cai nghiện ma túy là những biện ...   \n",
       "4  0MwITLtbmg    No  Viên chức thuộc một đơn vị sự nghiệp công lập ...   \n",
       "5  iWBRVGwBcb    No  Người từ đủ 14 tuổi đến dưới 18 tuổi đang cai ...   \n",
       "6  XsfBrLUkvw    No  Trách nhiệm của Bộ Y tế trong việc phòng, chốn...   \n",
       "7  bu3nyKAUNT    No  Người xem từ 18 tuổi trở lên được pháp xem phi...   \n",
       "8  msHHa3bELB   Yes  Viên chức có quyền được đào tạo, bồi dưỡng nân...   \n",
       "9  RVV34aoTvI    No  Cơ sở giáo dục thường xuyên bao gồm trường đại...   \n",
       "\n",
       "  article_id                         law_id  index  \n",
       "0         32             Luật Điện ảnh 2022      0  \n",
       "1         30  Luật Phòng, chống ma túy 2021      1  \n",
       "2         29            Luật Viên chức 2010      2  \n",
       "3         28  Luật Phòng, chống ma túy 2021      3  \n",
       "4         14            Luật Viên chức 2010      4  \n",
       "5         39  Luật Phòng, chống ma túy 2021      5  \n",
       "6         49  Luật Phòng, chống ma túy 2021      6  \n",
       "7         32             Luật Điện ảnh 2022      7  \n",
       "8         11            Luật Viên chức 2010      8  \n",
       "9         44             Luật Giáo dục 2019      9  "
      ]
     },
     "execution_count": 15,
     "metadata": {},
     "output_type": "execute_result"
    }
   ],
   "source": [
    "new_relevant_articles = getNewTrainData(train_df)\n",
    "print(len(new_relevant_articles))\n",
    "new_relevant_articles.head(10)"
   ]
  },
  {
   "cell_type": "code",
   "execution_count": 16,
   "metadata": {},
   "outputs": [
    {
     "name": "stdout",
     "output_type": "stream",
     "text": [
      "[{'example_id': 'q9zjh7Uw7Q', 'label': 'No', 'statement': 'Người xem dưới 16 tuổi được xem phim có nội dung thuộc phân loại T18', 'article_id': '32', 'law_id': 'Luật Điện ảnh 2022', 'index': 0}, {'example_id': 'ckQFn8y202', 'label': 'No', 'statement': 'Trong vòng 03 ngày làm việc, kể từ ngày người cai nghiện ma túy sử dụng dịch vụ hoặc tự ý chấm dứt việc sử dụng dịch vụ hoặc hoàn thành dịch vụ phải thông báo cho Ủy ban nhân dân cấp xã nơi người đó đăng ký cai nghiện ma túy tự nguyện tại gia đình, cộng đồng.', 'article_id': '30', 'law_id': 'Luật Phòng, chống ma túy 2021', 'index': 1}, {'example_id': '3ROu621ZEO', 'label': 'Yes', 'statement': 'Viên chức có 02 năm liên tiếp bị phân loại đánh giá ở mức độ không hoàn thành nhiệm vụ', 'article_id': '29', 'law_id': 'Luật Viên chức 2010', 'index': 2}]\n"
     ]
    }
   ],
   "source": [
    "# Chuyển DataFrame thành danh sách các từ điển\n",
    "list_from_new_relevant_articles = new_relevant_articles.to_dict('records')\n",
    "\n",
    "# Hiện thị danh sách này\n",
    "print(list_from_new_relevant_articles[0:3])"
   ]
  },
  {
   "cell_type": "code",
   "execution_count": 71,
   "metadata": {},
   "outputs": [
    {
     "name": "stdout",
     "output_type": "stream",
     "text": [
      "[{'intent': 'LuatDienanh2022_32', 'examples': '- Người xem dưới 16 tuổi được xem phim có nội dung thuộc phân loại T18\\n- Người xem từ 18 tuổi trở lên được pháp xem phim có nội dung thuộc phân loại K với điều kiện xem cùng cha, mẹ hoặc người giám hộ\\n- Người từ 16 tuổi trở lên được phép xem phim có nội dung thuộc phân loại P\\n- Phim loại C là phim được phép phổ biến đến người xem ở mọi độ tuổi'}, {'intent': 'LuatPhongchongmatuy2021_30', 'examples': '- Trong vòng 03 ngày làm việc, kể từ ngày người cai nghiện ma túy sử dụng dịch vụ hoặc tự ý chấm dứt việc sử dụng dịch vụ hoặc hoàn thành dịch vụ phải thông báo cho Ủy ban nhân dân cấp xã nơi người đó đăng ký cai nghiện ma túy tự nguyện tại gia đình, cộng đồng.'}, {'intent': 'LuatVienchuc2010_29', 'examples': '- Viên chức có 02 năm liên tiếp bị phân loại đánh giá ở mức độ không hoàn thành nhiệm vụ\\n- Đơn vị sự nghiệp có quyền đơn phương chấm dứt hợp đồng đối với viên chức khi viên chức ốm đau hoặc bị tai nạn, đang điều trị bệnh nghề nghiệp theo quyết định của cơ sở chữa bệnh'}, {'intent': 'LuatPhongchongmatuy2021_28', 'examples': '- Các biện pháp cai nghiện ma túy là những biện pháp nào sau đây?. Trả lời: Cai nghiện ma túy tự nguyện và Cai nghiện ma túy bắt buộc'}, {'intent': 'LuatVienchuc2010_14', 'examples': '- Viên chức thuộc một đơn vị sự nghiệp công lập hiện tại không được tham gia hợp đồng vụ, việc với các đơn vị, cơ quan, tổ chức khác\\n- Viên chức được hoạt động nghề nghiệp ngoài thời gian làm việc quy định trong hợp đồng làm việc và theo đúng các quy định của Pháp luật'}, {'intent': 'LuatPhongchongmatuy2021_39', 'examples': '- Người từ đủ 14 tuổi đến dưới 18 tuổi đang cai nghiện ma túy bắt buộc mà bị phát hiện thực hiện hành vi phạm tội trước hoặc trong thời gian chấp hành quyết định cai nghiện ma túy bắt buộc và bị Tòa án xử phạt tù nhưng không được hưởng án treo thì không được miễn chấp hành thời gian còn lại trong quyết định đưa vào cơ sở cai nghiện bắt buộc.'}, {'intent': 'LuatPhongchongmatuy2021_49', 'examples': '- Trách nhiệm của Bộ Y tế trong việc phòng, chống ma túy là gì? Trả lời: Tổ chức công tác giám định chất ma túy và tiền chất'}, {'intent': 'LuatVienchuc2010_11', 'examples': '- Viên chức có quyền được đào tạo, bồi dưỡng nâng cao trình độ chính trị, chuyên môn, nghiệp vụ'}, {'intent': 'LuatGiaoduc2019_44', 'examples': '- Cơ sở giáo dục thường xuyên bao gồm trường đại học hay viện nghiên cứu.'}, {'intent': 'LuatPhongchongmatuy2021_32', 'examples': '- Người nghiện ma túy từ đủ 18 tuổi trở lên bị áp dụng biện pháp xử lý hành chính đưa vào cơ sở cai nghiện bắt buộc theo quy định của Luật Xử lý vi phạm hành chính khi bị phát hiện sử dụng chất ma túy một cách trái phép trong thời gian cai nghiện ma túy tự nguyện.'}, {'intent': 'LuatVienchuc2010_46', 'examples': '- Cơ quan, tổ chức, đơn vị quản lý viên chức ra quyết định nghỉ hưu đối với viên chức trong thời hạn 06 tháng tính đến ngày viên chức nghỉ hưu\\n- Trước 03 tháng, tính đến ngày viên chức nghỉ hưu, cơ quan, tổ chức, đơn vị quản lý viên chức phải thông báo bằng văn bản về thời điểm nghỉ hưu\\n- Đơn vị sự nghiệp công lập không thể ký hợp đồng vụ, việc với người hưởng chế độ hưu trí, kể cả trường hợp đơn vị có nhu cầu và người hưởng chế độ hưu trí có nguyện vọng'}, {'intent': 'LuatGiaoduc2019_39', 'examples': '- Mục tiêu của giáo dục đại học là nhằm đào tạo ra nhân lực trình độ cao, nâng cao dân trí và bồi dưỡng nhân tài.'}, {'intent': 'LuatGiaoduc2019_38', 'examples': '- Có bao nhiêu trình độ đào tạo giáo dục đại học? Trả lời: 02 trình độ đào tạo giáo dục đại học'}, {'intent': 'LuatPhongchongmatuy2021_24', 'examples': '- Trách nhiệm của người sử dụng ma túy là phải chấp hành việc quản lý của cơ quan nhà nước, cụ thể là Ủy ban nhân dân cấp xã, phường.'}, {'intent': 'LuatGiaoduc2019_18', 'examples': '- Cán bộ quản lý giáo dục là người giữ vai trò quan trọng trong việc quản lý, tổ chức, và điều hành các hoạt động giáo dục.'}, {'intent': 'LuatPhongchongmatuy2021_48', 'examples': '- Trách nhiệm của Bộ Quốc phòng trong việc phòng, chống ma túy là gì? Trả lời: Thực hiện hợp tác quốc tế về cai nghiện ma túy'}, {'intent': 'LuatGiaoduc2019_51', 'examples': '- Nhà trường bị giải thể trong trường hợp nào? Trả lời: Bảo đảm chất lượng giáo dục.'}, {'intent': 'LuatVienchuc2010_28', 'examples': '- Trong quá trình thực hiện hợp đồng làm việc, nếu một bên có yêu cầu thay đổi nội dung hợp đồng làm việc thì phải báo cho bên kia biết trước ít nhất 03 ngày làm việc\\n- Người đứng đầu đơn vị sự nghiệp công lập đơn phương có quyền quyết định ký kết tiếp hoặc chấm dứt hợp đồng làm việc đối với viên chức.'}, {'intent': 'LuatGiaoduc2019_21', 'examples': '- Không được phép lợi dụng hoạt động giáo dục để xuyên tạc chủ trương và chống phá nhà nước Cộng hòa xã hội chủ nghĩa Việt Nam.'}, {'intent': 'LuatThanhnien2020_37', 'examples': '- Chính phủ là cơ quan thống nhất quản lý nhà nước về thanh niên '}, {'intent': 'LuatThanhnien2020_28', 'examples': '- Đoàn Thanh niên Cộng sản Hồ Chí Minh là cơ quan có trách nhiệm tổng hợp, phản ánh ý kiến, kiến nghị của thanh niên đến cơ quan, tổ chức có thẩm quyền\\n- Đoàn Thanh niên Cộng sản Hồ Chí Minh là tổ chức chính trị-xã hội của thanh niên Việt Nam, giữ vai trò nòng cốt trong phong trào thanh niên và tổ chức thanh niên; tổ chức hướng dẫn hoạt động của thiếu niên, nhi đồng, phụ trách Đội Thiếu niên tiền phong Hồ Chí Minh'}, {'intent': 'LuatGiaoduc2019_20', 'examples': '- Cho phép truyền bá tôn giáo và thực hiện các nghi lễ tôn giáo trong cơ sở giáo dục của hệ thống giáo dục quốc dân và tổ chức chính trị.'}, {'intent': 'LuatGiaoduc2019_64', 'examples': '- Trường giáo dưỡng có nhiệm vụ giáo dục người chưa thành niên vi phạm pháp luật nhằm mục đích nào sau đây? Trả lời: Đi du học nước ngoài.'}, {'intent': 'LuatGiaoduc2019_3', 'examples': '- Nền giáo dục Việt Nam là nền giáo dục xã hội chủ nghĩa có tính nhân dân, và dân tộc, mang tính khoa học, hiện đại.'}, {'intent': 'LuatPhongchongmatuy2021_31', 'examples': '- Khoảng thời gian cai nghiện ma túy tự nguyện tại cơ sở cai nghiện ma túy là bao lâu? Trả lời: Từ 48 tháng đến 60 tháng\\n- Người cai nghiện ma túy tự nguyện tại cơ sở cai nghiện ma túy phải có trách nhiệm nộp chi phí liên quan đến cai nghiện ma túy.\\n- Cơ sở cai nghiện ma túy không có trách nhiệm cấp giấy xác nhận hoàn thành cai nghiện ma túy tự nguyện cho người cai nghiện ma túy.'}, {'intent': 'LuatPhongchongmatuy2021_23', 'examples': '- Trong vòng 05 ngày làm việc, kể từ ngày nhận được kết quả xét nghiệm dương tính của người cư trú tại địa phương, Chủ tịch Ủy ban nhân dân cấp xã, phường có trách nhiệm ra quyết định và tổ chức quản lý người sử dụng trái phép chất ma túy cư trú tại địa phương.'}, {'intent': 'LuatGiaoduc2019_43', 'examples': '- Thứ trưởng Bộ Giáo dục và Đào tạo trong phạm vi nhiệm vụ, quyền hạn của mình, quy định chi tiết về chương trình, sách giáo khoa, giáo trình, tài liệu cho giáo dục thường xuyên.\\n- Phương pháp giáo dục thường xuyên phải phát huy tính thụ động của người học.'}, {'intent': 'LuatThanhnien2020_21', 'examples': '- Thanh niên hoàn thành nghĩa vụ quân sự, nghĩa vụ tham gia Công an nhân dân được hưởng chính sách hỗ trợ đào tạo nghề theo quy định'}, {'intent': 'LuatVienchuc2010_33', 'examples': '- Hình thức đào tạo, bồi dưỡng viên chức gồm: Đào tạo, bồi dưỡng theo tiêu chuẩn chức vụ quản lý, bồi dưỡng theo tiêu chuẩn chức danh nghề nghiệp, và bồi dưỡng nhằm bổ sung, cập nhật kiến thức, kỹ năng phục vụ hoạt động nghề nghiệp. '}, {'intent': 'LuatThanhnien2020_9', 'examples': '- Tháng 3 hằng năm là Tháng Thanh niên'}, {'intent': 'LuatGiaoduc2019_6', 'examples': '- Bộ trưởng Bộ Giáo dục và Đào tạo không được quy định ngưỡng đầu vào trình độ cao đẳng, trình độ đại học thuộc ngành đào tạo giáo viên.'}, {'intent': 'LuatVienchuc2010_8', 'examples': '- Bộ Nội Vụ là cơ quan nào chủ trì, phối hợp với các bộ, cơ quan ngang bộ có liên quan quy định hệ thống danh mục, tiêu chuẩn và mã số chức danh nghề nghiệp\\n- Chức danh nghề nghiệp là tên gọi thể hiện trình độ và năng lực chuyên môn, nghiệp vụ của viên chức trong từng lĩnh vực nghề nghiệp'}, {'intent': 'LuatGiaoduc2019_8', 'examples': '- Chương trình giáo dục cần phải thể hiện mục tiêu giáo dục và yêu cầu người học phải đạt về phẩm chất và năng lực tương ứng.'}, {'intent': 'LuatPhongchongmatuy2021_46', 'examples': '- Trách nhiệm của Bộ Công an trong việc phòng, chống ma túy là gì? Trả lời: Chỉ đạo lực lượng Bộ đội Biên phòng, Cảnh sát biển Việt Nam trong việc phòng chống ma túy.'}, {'intent': 'LuatVienchuc2010_41', 'examples': '- Việc đánh giá viên chức được thực hiện hàng năm'}, {'intent': 'LuatVienchuc2010_26', 'examples': '- Đối với trường hợp người được tuyển dụng dưới 18 tuổi, hợp đồng lao động chỉ cần ghi họ tên, địa chỉ, ngày, tháng, năm sinh của người đại diện theo pháp luật của người được tuyển dụng\\n- Hợp đồng làm việc đối với trường hợp người được tuyển dụng là người trên 18 tuổi  có những nội dung chủ yếu sau: Tên, địa chỉ của đơn vị sự nghiệp công lập và người đứng đầu đơn vị sự nghiệp công lập, Họ tên, địa chỉ, ngày, tháng, năm sinh của người được tuyển dụng.'}, {'intent': 'LuatPhongchongmatuy2021_35', 'examples': '- Cơ sở cai nghiện ma túy công lập là Chủ tịch Ủy ban nhân dân cấp tỉnh ra quyết định thành lập.'}, {'intent': 'LuatThanhnien2020_25', 'examples': '- Doanh nghiệp, tổ chức được yêu cầu phải ưu tiên tuyển dụng thanh niên là người dân tộc thiểu số'}, {'intent': 'LuatDienanh2022_45', 'examples': '- Bộ Văn hóa, Thể thao và Du lịch là cơ quan giúp Chính phủ thực hiện quản lý nhà nước về điện ảnh'}, {'intent': 'LuatThanhnien2020_6', 'examples': '- Nguồn tài chính bảo đảm thực hiện chính sách đối với thanh niên chỉ gồm nguồn tài chính từ ngân sách nhà nước'}, {'intent': 'LuatPhongchongmatuy2021_17', 'examples': '- Cơ quan Hải quan có trách nhiệm trong việc kiểm soát hoạt động quá cảnh lãnh thổ Việt Nam chất ma túy, tiền chất, thuốc gây nghiện.'}, {'intent': 'LuatGiaoduc2019_11', 'examples': '- Tiếng Anh được dùng chính thức trong cơ sở giáo dục.'}, {'intent': 'LuatGiaoduc2019_41', 'examples': '- Mục tiêu của giáo dục thường xuyên là nhằm mục đích tạo điều kiện cho mọi người có cơ hội vừa làm vừa học, học liên tục'}, {'intent': 'LuatVienchuc2010_27', 'examples': '- Người trúng tuyển viên chức đã có thời gian từ đủ 12 tháng trở lên thực hiện chuyên môn, nghiệp vụ phù hợp với yêu cầu của vị trí việc làm được tuyển dụng không phải thực hiện chế độ tập sự'}, {'intent': 'LuatGiaoduc2019_66', 'examples': '- Nhà giáo có vai trò nào sau đây? Trả lời: Đi du học nước ngoài nhằm nâng cao kiến thức.'}, {'intent': 'LuatDienanh2022_27', 'examples': '- Bộ Văn hóa, Thể thao và Du lịch và Ủy ban nhân dân có thẩm quyền cấp giấy phép phân loại phim khi đáp ứng các điều kiện theo quy định của Bộ trưởng Bộ Văn hóa, Thể thao và Du lịch'}, {'intent': 'LuatVienchuc2010_23', 'examples': '- Việc tuyển dụng viên chức chỉ được thực hiện thông qua thi tuyển'}, {'intent': 'LuatDienanh2022_35', 'examples': '- Chủ sở hữu phim có nghĩa vụ mở mã khóa phim để đối chiếu, kiểm tra khi có yêu cầu của cơ quan nhà nước có thẩm quyền'}, {'intent': 'LuatGiaoduc2019_2', 'examples': '- Phát triển giáo dục không phải là quốc sách hàng đầu.'}, {'intent': 'LuatGiaoduc2019_46', 'examples': '- Cơ quan, tổ chức có trách nhiệm tạo điều kiện thuận lợi cho cán bộ, công chức, viên chức và người lao động được thường xuyên học tập, học tập suốt đời để nhằm mục đích phát triển bản thân và nâng cao chất lượng cuộc sống.'}, {'intent': 'LuatThanhnien2020_27', 'examples': '- Tổ chức thanh niên gồm Đoàn Thanh niên Cộng sản Hồ Chí Minh, Hội Liên hiệp Thanh niên Việt Nam, Hội Sinh viên Việt Nam và các tổ chức khác của thanh niên được thành lập, tổ chức và hoạt động theo quy định của pháp luật'}, {'intent': 'LuatPhongchongmatuy2021_40', 'examples': '- Người đã chấp hành xong quyết định áp dụng biện pháp xử lý hành chính đưa vào cơ sở cai nghiện bắt buộc chịu sự quản lý sau cai nghiện ma túy trong thời hạn 05 năm kể từ ngày chấp hành xong quyết định.'}, {'intent': 'LuatPhongchongmatuy2021_36', 'examples': '- Cơ sở cai nghiện ma túy tự nguyện là do cơ quan nhà nước thành lập ra.'}, {'intent': 'LuatGiaoduc2019_22', 'examples': '- Được phép gian lận trong học tập và thi cử. Đồng thời cho phép học sinh được hút thuốc, uống rượu bia và cờ bạc.'}, {'intent': 'LuatPhongchongmatuy2021_26', 'examples': '- Công an cấp xã có trách nhiệm giúp Ủy ban nhân dân cùng cấp lập danh sách những người sử dụng trái phép chất ma túy tại địa phương.'}, {'intent': 'LuatGiaoduc2019_17', 'examples': '- Ngân sách nhà nước đóng giữ vai trò chủ đạo trong tổng nguồn lực đầu tư cho giáo dục.'}, {'intent': 'LuatPhongchongmatuy2021_10', 'examples': '- Trách nhiệm của cơ quan Mặt Trận Tổ Quốc Việt Nam trong việc phòng, chống ma túy là phòng ngừa, và ngăn chặn người của tổ chức mình và mọi công dân vi phạm luật phòng, chống ma túy.'}, {'intent': 'LuatVienchuc2010_56', 'examples': '- Viên chức bị kỷ luật từ khiển trách đến cách chức thì không thực hiện việc quy hoạch, đào tạo, bồi dưỡng, bổ nhiệm trong thời hạn 12 tháng, kể từ ngày quyết định kỷ luật có hiệu lực'}, {'intent': 'LuatVienchuc2010_9', 'examples': '- Viên chức bị khiển trách thì thời hạn nâng lương bị kéo dài 03 tháng'}, {'intent': 'LuatPhongchongmatuy2021_14', 'examples': '- Cơ quan nhà nước không có thẩm quyền theo dõi, kiểm tra, và giám sát các hoạt động nghiên cứu, sản xuất chất ma túy (không bao gồm trồng cây có chứa chất ma túy).'}, {'intent': 'LuatVienchuc2010_52', 'examples': '- Cách chức là một trong các hình thức xử lý kỷ luật dành cho viên chức quản lý'}, {'intent': 'LuatGiaoduc2019_70', 'examples': '- Quyền của nhà giáo là gì? Trả lời: Được giảng dạy theo chuyên môn đào tạo'}]\n"
     ]
    }
   ],
   "source": [
    "import unidecode\n",
    "dict_data = {}\n",
    "# intent_list = []  # Danh sách để lưu các giá trị utter\n",
    "\n",
    "\n",
    "for item in list_from_new_relevant_articles:\n",
    "    KeyIte = f'{unidecode.unidecode(item[\"law_id\"].replace(\",\",\"\").replace(\" \",\"\"))}_{item[\"article_id\"]}'\n",
    "    if(KeyIte in dict_data):\n",
    "        dict_data[KeyIte] += f'\\n- {item[\"statement\"]}'\n",
    "    else:\n",
    "        dict_data[KeyIte] = f'- {item[\"statement\"]}'\n",
    "\n",
    "ListNLU = []\n",
    "for i in dict_data:\n",
    "    NestedNLU = {}\n",
    "    NestedNLU[\"intent\"] = i\n",
    "    NestedNLU[\"examples\"] = dict_data[i]\n",
    "    ListNLU.append(NestedNLU)\n",
    "\n",
    "FinalNLUJson = {}\n",
    "FinalNLUJson[\"version\"] = \"3.1\"\n",
    "FinalNLUJson[\"nlu\"] = ListNLU\n",
    "print(FinalNLUJson['nlu'])"
   ]
  },
  {
   "cell_type": "code",
   "execution_count": 72,
   "metadata": {},
   "outputs": [
    {
     "name": "stdout",
     "output_type": "stream",
     "text": [
      "Dữ liệu đã được ghi vào 'nlu_convert_python.json' thành công.\n"
     ]
    }
   ],
   "source": [
    "# Tên file mà bạn muốn lưu dữ liệu vào\n",
    "file_name = 'nlu_convert_python.json'\n",
    "\n",
    "# Ghi dữ liệu YAML vào tệp tin\n",
    "with open(file_name, 'w+', encoding='utf-8') as file:\n",
    "    json.dump(FinalNLUJson, file, ensure_ascii=False)\n",
    "\n",
    "print(f\"Dữ liệu đã được ghi vào '{file_name}' thành công.\")"
   ]
  },
  {
   "cell_type": "code",
   "execution_count": 19,
   "metadata": {},
   "outputs": [
    {
     "name": "stdout",
     "output_type": "stream",
     "text": [
      "LuatDanPhong_2022\n"
     ]
    }
   ],
   "source": [
    "import unidecode\n",
    "str1 = \"LuậtDânPhòng_2022\"\n",
    "outputString = unidecode.unidecode(str1)\n",
    "print(outputString)"
   ]
  },
  {
   "cell_type": "code",
   "execution_count": 20,
   "metadata": {},
   "outputs": [],
   "source": [
    "# !pip install unicode"
   ]
  },
  {
   "cell_type": "code",
   "execution_count": null,
   "metadata": {},
   "outputs": [],
   "source": [
    "Link convert Json sang YAML của RASA\n",
    "#https://onlineyamltools.com/convert-yaml-to-json"
   ]
  }
 ],
 "metadata": {
  "kernelspec": {
   "display_name": "Python 3 (ipykernel)",
   "language": "python",
   "name": "python3"
  },
  "language_info": {
   "codemirror_mode": {
    "name": "ipython",
    "version": 3
   },
   "file_extension": ".py",
   "mimetype": "text/x-python",
   "name": "python",
   "nbconvert_exporter": "python",
   "pygments_lexer": "ipython3",
   "version": "3.9.13"
  }
 },
 "nbformat": 4,
 "nbformat_minor": 4
}
